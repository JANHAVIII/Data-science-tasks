{
  "metadata": {
    "kernelspec": {
      "language": "python",
      "display_name": "Python 3",
      "name": "python3"
    },
    "language_info": {
      "name": "python",
      "version": "3.7.12",
      "mimetype": "text/x-python",
      "codemirror_mode": {
        "name": "ipython",
        "version": 3
      },
      "pygments_lexer": "ipython3",
      "nbconvert_exporter": "python",
      "file_extension": ".py"
    },
    "colab": {
      "provenance": [],
      "include_colab_link": true
    }
  },
  "nbformat_minor": 0,
  "nbformat": 4,
  "cells": [
    {
      "cell_type": "markdown",
      "metadata": {
        "id": "view-in-github",
        "colab_type": "text"
      },
      "source": [
        "<a href=\"https://colab.research.google.com/github/janhavishembade/Data-science-tasks/blob/main/book_recommender_system.ipynb\" target=\"_parent\"><img src=\"https://colab.research.google.com/assets/colab-badge.svg\" alt=\"Open In Colab\"/></a>"
      ]
    },
    {
      "cell_type": "markdown",
      "source": [
        "**BUISNESS CONTEXT**"
      ],
      "metadata": {
        "id": "3wBezFSw00zZ"
      }
    },
    {
      "cell_type": "markdown",
      "source": [
        "During the last few decades, with the rise of Youtube, Amazon, Netflix, and many other such web services, recommender systems have taken more and more place in our lives. From e-commerce (suggest to buyers articles that could interest them) to online advertisement (suggest to users the right contents, matching their preferences), recommender systems are today unavoidable in our daily online journeys.\n",
        "\n",
        "In a very general way, recommender systems are algorithms aimed at suggesting relevant items to users (items being movies to watch, text to read, products to buy, or anything else depending on industries). Recommender systems are really critical in some industries as they can generate a huge amount of income when they are efficient or also be a way to stand out significantly from competitors. The main objective is to create a book recommendation system for users."
      ],
      "metadata": {
        "id": "vR5XVSDB05-A"
      }
    },
    {
      "cell_type": "markdown",
      "source": [
        "**THERE ARE 3 CSV FILE FOR BOOK RECOOMONDER SYSTEM**"
      ],
      "metadata": {
        "id": "595AIjH-1CN2"
      }
    },
    {
      "cell_type": "markdown",
      "source": [
        "**Users**"
      ],
      "metadata": {
        "id": "RZ-eBQkx1G64"
      }
    },
    {
      "cell_type": "markdown",
      "source": [
        "Contains the users. Note that user IDs (User-ID) have been anonymized and map to integers. Demographic data is provided (Location, Age) if available. Otherwise, these fields contain NULL values."
      ],
      "metadata": {
        "id": "JHfKV-Pp1MFh"
      }
    },
    {
      "cell_type": "markdown",
      "source": [
        "**Books**"
      ],
      "metadata": {
        "id": "fu5zFn6A1Sms"
      }
    },
    {
      "cell_type": "markdown",
      "source": [
        "Books are identified by their respective ISBN. Invalid ISBNs have already been removed from the dataset. Moreover, some content-based information is given (Book-Title, Book-Author, Year-Of-Publication, Publisher), obtained from Amazon Web Services. Note that in the case of several authors, only the first is provided. URLs linking to cover images are also given, appearing in three different flavors (Image-URL-S, Image-URL-M, Image-URL-L), i.e., small, medium, large. These URLs point to the Amazon website."
      ],
      "metadata": {
        "id": "_2jOwZni1WUu"
      }
    },
    {
      "cell_type": "markdown",
      "source": [
        "**Ratings**"
      ],
      "metadata": {
        "id": "HQ9jmuXJ1aii"
      }
    },
    {
      "cell_type": "markdown",
      "source": [
        "Contains the book rating information. Ratings (Book-Rating) are either explicit, expressed on a scale from 1-10 (higher values denoting higher appreciation), or implicit, expressed by 0."
      ],
      "metadata": {
        "id": "H2o1BJDJ1f-H"
      }
    },
    {
      "cell_type": "code",
      "source": [
        "#Importing Libraries\n",
        "import numpy as np # linear algebra\n",
        "import pandas as pd # data processing\n",
        "import matplotlib.pyplot as plt\n",
        "import seaborn as sns\n",
        "import sklearn\n",
        "import warnings; warnings.simplefilter('ignore')"
      ],
      "metadata": {
        "execution": {
          "iopub.status.busy": "2023-01-09T13:39:48.042856Z",
          "iopub.execute_input": "2023-01-09T13:39:48.044188Z",
          "iopub.status.idle": "2023-01-09T13:39:48.050672Z",
          "shell.execute_reply.started": "2023-01-09T13:39:48.044141Z",
          "shell.execute_reply": "2023-01-09T13:39:48.049501Z"
        },
        "trusted": true,
        "id": "pLZO2SHyxt5w"
      },
      "execution_count": null,
      "outputs": []
    },
    {
      "cell_type": "code",
      "source": [
        "#Book Data\n",
        "df_book=pd.read_csv(\"/kaggle/input/book-recommonder-system/Books.csv\",low_memory=False)\n",
        "df_book.head(3)"
      ],
      "metadata": {
        "execution": {
          "iopub.status.busy": "2023-01-09T13:39:48.052992Z",
          "iopub.execute_input": "2023-01-09T13:39:48.053394Z",
          "iopub.status.idle": "2023-01-09T13:39:50.320081Z",
          "shell.execute_reply.started": "2023-01-09T13:39:48.053359Z",
          "shell.execute_reply": "2023-01-09T13:39:50.318857Z"
        },
        "trusted": true,
        "id": "1nBv2HN7xt57",
        "outputId": "8cfab779-f994-4781-eae8-2fd1c8c2acb3"
      },
      "execution_count": null,
      "outputs": [
        {
          "execution_count": 286,
          "output_type": "execute_result",
          "data": {
            "text/plain": "         ISBN            Book-Title           Book-Author Year-Of-Publication  \\\n0  0195153448   Classical Mythology    Mark P. O. Morford                2002   \n1  0002005018          Clara Callan  Richard Bruce Wright                2001   \n2  0060973129  Decision in Normandy          Carlo D'Este                1991   \n\n                 Publisher                                        Image-URL-S  \\\n0  Oxford University Press  http://images.amazon.com/images/P/0195153448.0...   \n1    HarperFlamingo Canada  http://images.amazon.com/images/P/0002005018.0...   \n2          HarperPerennial  http://images.amazon.com/images/P/0060973129.0...   \n\n                                         Image-URL-M  \\\n0  http://images.amazon.com/images/P/0195153448.0...   \n1  http://images.amazon.com/images/P/0002005018.0...   \n2  http://images.amazon.com/images/P/0060973129.0...   \n\n                                         Image-URL-L  \n0  http://images.amazon.com/images/P/0195153448.0...  \n1  http://images.amazon.com/images/P/0002005018.0...  \n2  http://images.amazon.com/images/P/0060973129.0...  ",
            "text/html": "<div>\n<style scoped>\n    .dataframe tbody tr th:only-of-type {\n        vertical-align: middle;\n    }\n\n    .dataframe tbody tr th {\n        vertical-align: top;\n    }\n\n    .dataframe thead th {\n        text-align: right;\n    }\n</style>\n<table border=\"1\" class=\"dataframe\">\n  <thead>\n    <tr style=\"text-align: right;\">\n      <th></th>\n      <th>ISBN</th>\n      <th>Book-Title</th>\n      <th>Book-Author</th>\n      <th>Year-Of-Publication</th>\n      <th>Publisher</th>\n      <th>Image-URL-S</th>\n      <th>Image-URL-M</th>\n      <th>Image-URL-L</th>\n    </tr>\n  </thead>\n  <tbody>\n    <tr>\n      <th>0</th>\n      <td>0195153448</td>\n      <td>Classical Mythology</td>\n      <td>Mark P. O. Morford</td>\n      <td>2002</td>\n      <td>Oxford University Press</td>\n      <td>http://images.amazon.com/images/P/0195153448.0...</td>\n      <td>http://images.amazon.com/images/P/0195153448.0...</td>\n      <td>http://images.amazon.com/images/P/0195153448.0...</td>\n    </tr>\n    <tr>\n      <th>1</th>\n      <td>0002005018</td>\n      <td>Clara Callan</td>\n      <td>Richard Bruce Wright</td>\n      <td>2001</td>\n      <td>HarperFlamingo Canada</td>\n      <td>http://images.amazon.com/images/P/0002005018.0...</td>\n      <td>http://images.amazon.com/images/P/0002005018.0...</td>\n      <td>http://images.amazon.com/images/P/0002005018.0...</td>\n    </tr>\n    <tr>\n      <th>2</th>\n      <td>0060973129</td>\n      <td>Decision in Normandy</td>\n      <td>Carlo D'Este</td>\n      <td>1991</td>\n      <td>HarperPerennial</td>\n      <td>http://images.amazon.com/images/P/0060973129.0...</td>\n      <td>http://images.amazon.com/images/P/0060973129.0...</td>\n      <td>http://images.amazon.com/images/P/0060973129.0...</td>\n    </tr>\n  </tbody>\n</table>\n</div>"
          },
          "metadata": {}
        }
      ]
    },
    {
      "cell_type": "code",
      "source": [
        "#Drop URL from Book Data\n",
        "df_book.drop(['Image-URL-S','Image-URL-M','Image-URL-L'],axis=1,inplace=True)"
      ],
      "metadata": {
        "execution": {
          "iopub.status.busy": "2023-01-09T13:39:50.322606Z",
          "iopub.execute_input": "2023-01-09T13:39:50.322992Z",
          "iopub.status.idle": "2023-01-09T13:39:50.348049Z",
          "shell.execute_reply.started": "2023-01-09T13:39:50.322956Z",
          "shell.execute_reply": "2023-01-09T13:39:50.346843Z"
        },
        "trusted": true,
        "id": "Kd86VZiPxt5-"
      },
      "execution_count": null,
      "outputs": []
    },
    {
      "cell_type": "code",
      "source": [
        "\n",
        "# replacing '-' with '_' and features name in lower case\n",
        "df_book.columns= df_book.columns.str.strip().str.lower().str.replace('-', '_')"
      ],
      "metadata": {
        "execution": {
          "iopub.status.busy": "2023-01-09T13:39:50.350017Z",
          "iopub.execute_input": "2023-01-09T13:39:50.350392Z",
          "iopub.status.idle": "2023-01-09T13:39:50.357984Z",
          "shell.execute_reply.started": "2023-01-09T13:39:50.350359Z",
          "shell.execute_reply": "2023-01-09T13:39:50.356522Z"
        },
        "trusted": true,
        "id": "G2yq-n4Gxt5_"
      },
      "execution_count": null,
      "outputs": []
    },
    {
      "cell_type": "code",
      "source": [
        "df_book.info()# chek info about dataframe"
      ],
      "metadata": {
        "execution": {
          "iopub.status.busy": "2023-01-09T13:39:50.361760Z",
          "iopub.execute_input": "2023-01-09T13:39:50.362286Z",
          "iopub.status.idle": "2023-01-09T13:39:50.453620Z",
          "shell.execute_reply.started": "2023-01-09T13:39:50.362239Z",
          "shell.execute_reply": "2023-01-09T13:39:50.452421Z"
        },
        "trusted": true,
        "id": "2GjWkYvlxt6B",
        "outputId": "81a96ef7-c8f5-49f6-acac-7ae3d46d6448"
      },
      "execution_count": null,
      "outputs": [
        {
          "name": "stdout",
          "text": "<class 'pandas.core.frame.DataFrame'>\nRangeIndex: 271360 entries, 0 to 271359\nData columns (total 5 columns):\n #   Column               Non-Null Count   Dtype \n---  ------               --------------   ----- \n 0   isbn                 271360 non-null  object\n 1   book_title           271360 non-null  object\n 2   book_author          271359 non-null  object\n 3   year_of_publication  271360 non-null  object\n 4   publisher            271358 non-null  object\ndtypes: object(5)\nmemory usage: 10.4+ MB\n",
          "output_type": "stream"
        }
      ]
    },
    {
      "cell_type": "code",
      "source": [
        "#First 3 row\n",
        "df_book.head(3)"
      ],
      "metadata": {
        "execution": {
          "iopub.status.busy": "2023-01-09T13:39:50.454843Z",
          "iopub.execute_input": "2023-01-09T13:39:50.455164Z",
          "iopub.status.idle": "2023-01-09T13:39:50.472454Z",
          "shell.execute_reply.started": "2023-01-09T13:39:50.455135Z",
          "shell.execute_reply": "2023-01-09T13:39:50.471051Z"
        },
        "trusted": true,
        "id": "Gqkvqd0Cxt6C",
        "outputId": "b40e87a9-f96c-4896-b19c-b44ff494810f"
      },
      "execution_count": null,
      "outputs": [
        {
          "execution_count": 290,
          "output_type": "execute_result",
          "data": {
            "text/plain": "         isbn            book_title           book_author year_of_publication  \\\n0  0195153448   Classical Mythology    Mark P. O. Morford                2002   \n1  0002005018          Clara Callan  Richard Bruce Wright                2001   \n2  0060973129  Decision in Normandy          Carlo D'Este                1991   \n\n                 publisher  \n0  Oxford University Press  \n1    HarperFlamingo Canada  \n2          HarperPerennial  ",
            "text/html": "<div>\n<style scoped>\n    .dataframe tbody tr th:only-of-type {\n        vertical-align: middle;\n    }\n\n    .dataframe tbody tr th {\n        vertical-align: top;\n    }\n\n    .dataframe thead th {\n        text-align: right;\n    }\n</style>\n<table border=\"1\" class=\"dataframe\">\n  <thead>\n    <tr style=\"text-align: right;\">\n      <th></th>\n      <th>isbn</th>\n      <th>book_title</th>\n      <th>book_author</th>\n      <th>year_of_publication</th>\n      <th>publisher</th>\n    </tr>\n  </thead>\n  <tbody>\n    <tr>\n      <th>0</th>\n      <td>0195153448</td>\n      <td>Classical Mythology</td>\n      <td>Mark P. O. Morford</td>\n      <td>2002</td>\n      <td>Oxford University Press</td>\n    </tr>\n    <tr>\n      <th>1</th>\n      <td>0002005018</td>\n      <td>Clara Callan</td>\n      <td>Richard Bruce Wright</td>\n      <td>2001</td>\n      <td>HarperFlamingo Canada</td>\n    </tr>\n    <tr>\n      <th>2</th>\n      <td>0060973129</td>\n      <td>Decision in Normandy</td>\n      <td>Carlo D'Este</td>\n      <td>1991</td>\n      <td>HarperPerennial</td>\n    </tr>\n  </tbody>\n</table>\n</div>"
          },
          "metadata": {}
        }
      ]
    },
    {
      "cell_type": "code",
      "source": [
        "#Last 5 rows\n",
        "df_book.tail()"
      ],
      "metadata": {
        "execution": {
          "iopub.status.busy": "2023-01-09T13:39:50.473984Z",
          "iopub.execute_input": "2023-01-09T13:39:50.474341Z",
          "iopub.status.idle": "2023-01-09T13:39:50.489071Z",
          "shell.execute_reply.started": "2023-01-09T13:39:50.474308Z",
          "shell.execute_reply": "2023-01-09T13:39:50.487820Z"
        },
        "trusted": true,
        "id": "xEJ5oe9Mxt6D",
        "outputId": "7d836e9c-5720-4d75-bfd8-d4bc42e2bb68"
      },
      "execution_count": null,
      "outputs": [
        {
          "execution_count": 291,
          "output_type": "execute_result",
          "data": {
            "text/plain": "              isbn                                         book_title  \\\n271355  0440400988                         There's a Bat in Bunk Five   \n271356  0525447644                            From One to One Hundred   \n271357  006008667X  Lily Dale : The True Story of the Town that Ta...   \n271358  0192126040                        Republic (World's Classics)   \n271359  0767409752  A Guided Tour of Rene Descartes' Meditations o...   \n\n                book_author year_of_publication  \\\n271355       Paula Danziger                1988   \n271356           Teri Sloat                1991   \n271357     Christine Wicker                2004   \n271358                Plato                1996   \n271359  Christopher  Biffle                2000   \n\n                                               publisher  \n271355                   Random House Childrens Pub (Mm)  \n271356                                      Dutton Books  \n271357                                HarperSanFrancisco  \n271358                           Oxford University Press  \n271359  McGraw-Hill Humanities/Social Sciences/Languages  ",
            "text/html": "<div>\n<style scoped>\n    .dataframe tbody tr th:only-of-type {\n        vertical-align: middle;\n    }\n\n    .dataframe tbody tr th {\n        vertical-align: top;\n    }\n\n    .dataframe thead th {\n        text-align: right;\n    }\n</style>\n<table border=\"1\" class=\"dataframe\">\n  <thead>\n    <tr style=\"text-align: right;\">\n      <th></th>\n      <th>isbn</th>\n      <th>book_title</th>\n      <th>book_author</th>\n      <th>year_of_publication</th>\n      <th>publisher</th>\n    </tr>\n  </thead>\n  <tbody>\n    <tr>\n      <th>271355</th>\n      <td>0440400988</td>\n      <td>There's a Bat in Bunk Five</td>\n      <td>Paula Danziger</td>\n      <td>1988</td>\n      <td>Random House Childrens Pub (Mm)</td>\n    </tr>\n    <tr>\n      <th>271356</th>\n      <td>0525447644</td>\n      <td>From One to One Hundred</td>\n      <td>Teri Sloat</td>\n      <td>1991</td>\n      <td>Dutton Books</td>\n    </tr>\n    <tr>\n      <th>271357</th>\n      <td>006008667X</td>\n      <td>Lily Dale : The True Story of the Town that Ta...</td>\n      <td>Christine Wicker</td>\n      <td>2004</td>\n      <td>HarperSanFrancisco</td>\n    </tr>\n    <tr>\n      <th>271358</th>\n      <td>0192126040</td>\n      <td>Republic (World's Classics)</td>\n      <td>Plato</td>\n      <td>1996</td>\n      <td>Oxford University Press</td>\n    </tr>\n    <tr>\n      <th>271359</th>\n      <td>0767409752</td>\n      <td>A Guided Tour of Rene Descartes' Meditations o...</td>\n      <td>Christopher  Biffle</td>\n      <td>2000</td>\n      <td>McGraw-Hill Humanities/Social Sciences/Languages</td>\n    </tr>\n  </tbody>\n</table>\n</div>"
          },
          "metadata": {}
        }
      ]
    },
    {
      "cell_type": "code",
      "source": [
        "#describtion data\n",
        "df_book.describe()"
      ],
      "metadata": {
        "execution": {
          "iopub.status.busy": "2023-01-09T13:39:50.490305Z",
          "iopub.execute_input": "2023-01-09T13:39:50.490616Z",
          "iopub.status.idle": "2023-01-09T13:39:51.228967Z",
          "shell.execute_reply.started": "2023-01-09T13:39:50.490587Z",
          "shell.execute_reply": "2023-01-09T13:39:51.227803Z"
        },
        "trusted": true,
        "id": "UYqVrWaMxt6E",
        "outputId": "030ab8e2-c5da-446e-9fa6-6c1786513730"
      },
      "execution_count": null,
      "outputs": [
        {
          "execution_count": 292,
          "output_type": "execute_result",
          "data": {
            "text/plain": "              isbn      book_title      book_author year_of_publication  \\\ncount       271360          271360           271359              271360   \nunique      271360          242135           102023                 118   \ntop     0195153448  Selected Poems  Agatha Christie                2002   \nfreq             1              27              632               17627   \n\n        publisher  \ncount      271358  \nunique      16807  \ntop     Harlequin  \nfreq         7535  ",
            "text/html": "<div>\n<style scoped>\n    .dataframe tbody tr th:only-of-type {\n        vertical-align: middle;\n    }\n\n    .dataframe tbody tr th {\n        vertical-align: top;\n    }\n\n    .dataframe thead th {\n        text-align: right;\n    }\n</style>\n<table border=\"1\" class=\"dataframe\">\n  <thead>\n    <tr style=\"text-align: right;\">\n      <th></th>\n      <th>isbn</th>\n      <th>book_title</th>\n      <th>book_author</th>\n      <th>year_of_publication</th>\n      <th>publisher</th>\n    </tr>\n  </thead>\n  <tbody>\n    <tr>\n      <th>count</th>\n      <td>271360</td>\n      <td>271360</td>\n      <td>271359</td>\n      <td>271360</td>\n      <td>271358</td>\n    </tr>\n    <tr>\n      <th>unique</th>\n      <td>271360</td>\n      <td>242135</td>\n      <td>102023</td>\n      <td>118</td>\n      <td>16807</td>\n    </tr>\n    <tr>\n      <th>top</th>\n      <td>0195153448</td>\n      <td>Selected Poems</td>\n      <td>Agatha Christie</td>\n      <td>2002</td>\n      <td>Harlequin</td>\n    </tr>\n    <tr>\n      <th>freq</th>\n      <td>1</td>\n      <td>27</td>\n      <td>632</td>\n      <td>17627</td>\n      <td>7535</td>\n    </tr>\n  </tbody>\n</table>\n</div>"
          },
          "metadata": {}
        }
      ]
    },
    {
      "cell_type": "code",
      "source": [
        "#check null values\n",
        "df_book.isnull().sum()"
      ],
      "metadata": {
        "execution": {
          "iopub.status.busy": "2023-01-09T13:39:51.230400Z",
          "iopub.execute_input": "2023-01-09T13:39:51.230761Z",
          "iopub.status.idle": "2023-01-09T13:39:51.320134Z",
          "shell.execute_reply.started": "2023-01-09T13:39:51.230729Z",
          "shell.execute_reply": "2023-01-09T13:39:51.318904Z"
        },
        "trusted": true,
        "id": "NLBkU0Lbxt6G",
        "outputId": "e9e00539-6532-4742-f433-3bf7fe41f515"
      },
      "execution_count": null,
      "outputs": [
        {
          "execution_count": 293,
          "output_type": "execute_result",
          "data": {
            "text/plain": "isbn                   0\nbook_title             0\nbook_author            1\nyear_of_publication    0\npublisher              2\ndtype: int64"
          },
          "metadata": {}
        }
      ]
    },
    {
      "cell_type": "code",
      "source": [
        "df_book.loc[(df_book['book_author'].isnull()),: ]"
      ],
      "metadata": {
        "execution": {
          "iopub.status.busy": "2023-01-09T13:39:51.321727Z",
          "iopub.execute_input": "2023-01-09T13:39:51.322099Z",
          "iopub.status.idle": "2023-01-09T13:39:51.374078Z",
          "shell.execute_reply.started": "2023-01-09T13:39:51.322067Z",
          "shell.execute_reply": "2023-01-09T13:39:51.372433Z"
        },
        "trusted": true,
        "id": "BZMDuT5sxt6I",
        "outputId": "32e4082c-ba62-456a-ccac-4269cbe28a59"
      },
      "execution_count": null,
      "outputs": [
        {
          "execution_count": 294,
          "output_type": "execute_result",
          "data": {
            "text/plain": "              isbn                                         book_title  \\\n187689  9627982032  The Credit Suisse Guide to Managing Your Perso...   \n\n       book_author year_of_publication                       publisher  \n187689         NaN                1995  Edinburgh Financial Publishing  ",
            "text/html": "<div>\n<style scoped>\n    .dataframe tbody tr th:only-of-type {\n        vertical-align: middle;\n    }\n\n    .dataframe tbody tr th {\n        vertical-align: top;\n    }\n\n    .dataframe thead th {\n        text-align: right;\n    }\n</style>\n<table border=\"1\" class=\"dataframe\">\n  <thead>\n    <tr style=\"text-align: right;\">\n      <th></th>\n      <th>isbn</th>\n      <th>book_title</th>\n      <th>book_author</th>\n      <th>year_of_publication</th>\n      <th>publisher</th>\n    </tr>\n  </thead>\n  <tbody>\n    <tr>\n      <th>187689</th>\n      <td>9627982032</td>\n      <td>The Credit Suisse Guide to Managing Your Perso...</td>\n      <td>NaN</td>\n      <td>1995</td>\n      <td>Edinburgh Financial Publishing</td>\n    </tr>\n  </tbody>\n</table>\n</div>"
          },
          "metadata": {}
        }
      ]
    },
    {
      "cell_type": "code",
      "source": [
        "#Fill null value of the Book Author\n",
        "#df_books.loc[187689, 'Book-Author'] = 'Larissa Anne Downes'\n",
        "df_book['book_author'].fillna('Larissa Anne Downes',inplace=True)"
      ],
      "metadata": {
        "execution": {
          "iopub.status.busy": "2023-01-09T13:39:51.380074Z",
          "iopub.execute_input": "2023-01-09T13:39:51.380448Z",
          "iopub.status.idle": "2023-01-09T13:39:51.417266Z",
          "shell.execute_reply.started": "2023-01-09T13:39:51.380417Z",
          "shell.execute_reply": "2023-01-09T13:39:51.415671Z"
        },
        "trusted": true,
        "id": "pVxnOZ0Axt6M"
      },
      "execution_count": null,
      "outputs": []
    },
    {
      "cell_type": "code",
      "source": [
        "# nan values in particular column\n",
        "df_book.loc[(df_book['publisher'].isnull()),: ]"
      ],
      "metadata": {
        "execution": {
          "iopub.status.busy": "2023-01-09T13:39:51.419145Z",
          "iopub.execute_input": "2023-01-09T13:39:51.419504Z",
          "iopub.status.idle": "2023-01-09T13:39:51.450346Z",
          "shell.execute_reply.started": "2023-01-09T13:39:51.419474Z",
          "shell.execute_reply": "2023-01-09T13:39:51.449088Z"
        },
        "trusted": true,
        "id": "bonDOlgGxt6N",
        "outputId": "cf5f7f6d-29df-4073-d4fd-d547eff4ca1c"
      },
      "execution_count": null,
      "outputs": [
        {
          "execution_count": 296,
          "output_type": "execute_result",
          "data": {
            "text/plain": "              isbn       book_title      book_author year_of_publication  \\\n128890  193169656X      Tyrant Moon  Elaine Corvidae                2002   \n129037  1931696993  Finders Keepers  Linnea Sinclair                2001   \n\n       publisher  \n128890       NaN  \n129037       NaN  ",
            "text/html": "<div>\n<style scoped>\n    .dataframe tbody tr th:only-of-type {\n        vertical-align: middle;\n    }\n\n    .dataframe tbody tr th {\n        vertical-align: top;\n    }\n\n    .dataframe thead th {\n        text-align: right;\n    }\n</style>\n<table border=\"1\" class=\"dataframe\">\n  <thead>\n    <tr style=\"text-align: right;\">\n      <th></th>\n      <th>isbn</th>\n      <th>book_title</th>\n      <th>book_author</th>\n      <th>year_of_publication</th>\n      <th>publisher</th>\n    </tr>\n  </thead>\n  <tbody>\n    <tr>\n      <th>128890</th>\n      <td>193169656X</td>\n      <td>Tyrant Moon</td>\n      <td>Elaine Corvidae</td>\n      <td>2002</td>\n      <td>NaN</td>\n    </tr>\n    <tr>\n      <th>129037</th>\n      <td>1931696993</td>\n      <td>Finders Keepers</td>\n      <td>Linnea Sinclair</td>\n      <td>2001</td>\n      <td>NaN</td>\n    </tr>\n  </tbody>\n</table>\n</div>"
          },
          "metadata": {}
        }
      ]
    },
    {
      "cell_type": "code",
      "source": [
        "# nan values in particular column\n",
        "df_book.loc[(df_book['publisher'].isnull()),: ]"
      ],
      "metadata": {
        "execution": {
          "iopub.status.busy": "2023-01-09T13:39:51.452632Z",
          "iopub.execute_input": "2023-01-09T13:39:51.453141Z",
          "iopub.status.idle": "2023-01-09T13:39:51.483208Z",
          "shell.execute_reply.started": "2023-01-09T13:39:51.453083Z",
          "shell.execute_reply": "2023-01-09T13:39:51.481911Z"
        },
        "trusted": true,
        "id": "QE2epvpqxt6P",
        "outputId": "28002c80-3f11-4f72-93ff-7e72f729bf71"
      },
      "execution_count": null,
      "outputs": [
        {
          "execution_count": 297,
          "output_type": "execute_result",
          "data": {
            "text/plain": "              isbn       book_title      book_author year_of_publication  \\\n128890  193169656X      Tyrant Moon  Elaine Corvidae                2002   \n129037  1931696993  Finders Keepers  Linnea Sinclair                2001   \n\n       publisher  \n128890       NaN  \n129037       NaN  ",
            "text/html": "<div>\n<style scoped>\n    .dataframe tbody tr th:only-of-type {\n        vertical-align: middle;\n    }\n\n    .dataframe tbody tr th {\n        vertical-align: top;\n    }\n\n    .dataframe thead th {\n        text-align: right;\n    }\n</style>\n<table border=\"1\" class=\"dataframe\">\n  <thead>\n    <tr style=\"text-align: right;\">\n      <th></th>\n      <th>isbn</th>\n      <th>book_title</th>\n      <th>book_author</th>\n      <th>year_of_publication</th>\n      <th>publisher</th>\n    </tr>\n  </thead>\n  <tbody>\n    <tr>\n      <th>128890</th>\n      <td>193169656X</td>\n      <td>Tyrant Moon</td>\n      <td>Elaine Corvidae</td>\n      <td>2002</td>\n      <td>NaN</td>\n    </tr>\n    <tr>\n      <th>129037</th>\n      <td>1931696993</td>\n      <td>Finders Keepers</td>\n      <td>Linnea Sinclair</td>\n      <td>2001</td>\n      <td>NaN</td>\n    </tr>\n  </tbody>\n</table>\n</div>"
          },
          "metadata": {}
        }
      ]
    },
    {
      "cell_type": "code",
      "source": [
        "# replacing 'Nan' with 'No Mention'\n",
        "df_book.loc[(df_book['isbn'] == '193169656X'),'publisher'] = 'No Mention'\n",
        "df_book.loc[(df_book['isbn'] == '1931696993'),'publisher'] = 'No Mention'"
      ],
      "metadata": {
        "execution": {
          "iopub.status.busy": "2023-01-09T13:39:51.484548Z",
          "iopub.execute_input": "2023-01-09T13:39:51.484928Z",
          "iopub.status.idle": "2023-01-09T13:39:51.530730Z",
          "shell.execute_reply.started": "2023-01-09T13:39:51.484892Z",
          "shell.execute_reply": "2023-01-09T13:39:51.529651Z"
        },
        "trusted": true,
        "id": "K9kc7VEfxt6Q"
      },
      "execution_count": null,
      "outputs": []
    },
    {
      "cell_type": "code",
      "source": [
        "#chek null values\n",
        "df_book.isnull().sum()"
      ],
      "metadata": {
        "execution": {
          "iopub.status.busy": "2023-01-09T13:39:51.531760Z",
          "iopub.execute_input": "2023-01-09T13:39:51.532128Z",
          "iopub.status.idle": "2023-01-09T13:39:51.621657Z",
          "shell.execute_reply.started": "2023-01-09T13:39:51.532097Z",
          "shell.execute_reply": "2023-01-09T13:39:51.619906Z"
        },
        "trusted": true,
        "id": "_Z6VOqknxt6R",
        "outputId": "b20c63bf-e096-48ce-f01a-6a08dc818983"
      },
      "execution_count": null,
      "outputs": [
        {
          "execution_count": 299,
          "output_type": "execute_result",
          "data": {
            "text/plain": "isbn                   0\nbook_title             0\nbook_author            0\nyear_of_publication    0\npublisher              0\ndtype: int64"
          },
          "metadata": {}
        }
      ]
    },
    {
      "cell_type": "code",
      "source": [
        "# getting unique value from 'year_of_publication' feature\n",
        "df_book['year_of_publication'].unique()"
      ],
      "metadata": {
        "execution": {
          "iopub.status.busy": "2023-01-09T13:39:51.623237Z",
          "iopub.execute_input": "2023-01-09T13:39:51.623815Z",
          "iopub.status.idle": "2023-01-09T13:39:51.656089Z",
          "shell.execute_reply.started": "2023-01-09T13:39:51.623781Z",
          "shell.execute_reply": "2023-01-09T13:39:51.654870Z"
        },
        "trusted": true,
        "id": "zV0nRpiaxt6S",
        "outputId": "15ccdf52-eccb-4f9e-8fc8-eb41d2cfe025"
      },
      "execution_count": null,
      "outputs": [
        {
          "execution_count": 300,
          "output_type": "execute_result",
          "data": {
            "text/plain": "array(['2002', '2001', '1991', '1999', '2000', '1993', '1996', '1988',\n       '2004', '1998', '1994', '2003', '1997', '1983', '1979', '1995',\n       '1982', '1985', '1992', '1986', '1978', '1980', '1952', '1987',\n       '1990', '1981', '1989', '1984', '0', '1968', '1961', '1958',\n       '1974', '1976', '1971', '1977', '1975', '1965', '1941', '1970',\n       '1962', '1973', '1972', '1960', '1966', '1920', '1956', '1959',\n       '1953', '1951', '1942', '1963', '1964', '1969', '1954', '1950',\n       '1967', '2005', '1957', '1940', '1937', '1955', '1946', '1936',\n       '1930', '2011', '1925', '1948', '1943', '1947', '1945', '1923',\n       '2020', '1939', '1926', '1938', '2030', '1911', '1904', '1949',\n       '1932', '1928', '1929', '1927', '1931', '1914', '2050', '1934',\n       '1910', '1933', '1902', '1924', '1921', '1900', '2038', '2026',\n       '1944', '1917', '1901', '2010', '1908', '1906', '1935', '1806',\n       '2021', '2012', '2006', 'DK Publishing Inc', 'Gallimard', '1909',\n       '2008', '1378', '1919', '1922', '1897', '2024', '1376', '2037'],\n      dtype=object)"
          },
          "metadata": {}
        }
      ]
    },
    {
      "cell_type": "code",
      "source": [
        "# Extracting and fixing mismatch in feature 'year_of_publication', 'publisher', 'book_author', 'book_title'\n",
        "df_book[df_book['year_of_publication'] == 'DK Publishing Inc'] "
      ],
      "metadata": {
        "execution": {
          "iopub.status.busy": "2023-01-09T13:39:51.657662Z",
          "iopub.execute_input": "2023-01-09T13:39:51.658842Z",
          "iopub.status.idle": "2023-01-09T13:39:51.692951Z",
          "shell.execute_reply.started": "2023-01-09T13:39:51.658773Z",
          "shell.execute_reply": "2023-01-09T13:39:51.691275Z"
        },
        "trusted": true,
        "id": "uPkc7H_0xt6T",
        "outputId": "1fd8eb7e-9d4e-4fd0-9fe4-acb8668e572d"
      },
      "execution_count": null,
      "outputs": [
        {
          "execution_count": 301,
          "output_type": "execute_result",
          "data": {
            "text/plain": "              isbn                                         book_title  \\\n209538  078946697X  DK Readers: Creating the X-Men, How It All Beg...   \n221678  0789466953  DK Readers: Creating the X-Men, How Comic Book...   \n\n       book_author year_of_publication  \\\n209538        2000   DK Publishing Inc   \n221678        2000   DK Publishing Inc   \n\n                                                publisher  \n209538  http://images.amazon.com/images/P/078946697X.0...  \n221678  http://images.amazon.com/images/P/0789466953.0...  ",
            "text/html": "<div>\n<style scoped>\n    .dataframe tbody tr th:only-of-type {\n        vertical-align: middle;\n    }\n\n    .dataframe tbody tr th {\n        vertical-align: top;\n    }\n\n    .dataframe thead th {\n        text-align: right;\n    }\n</style>\n<table border=\"1\" class=\"dataframe\">\n  <thead>\n    <tr style=\"text-align: right;\">\n      <th></th>\n      <th>isbn</th>\n      <th>book_title</th>\n      <th>book_author</th>\n      <th>year_of_publication</th>\n      <th>publisher</th>\n    </tr>\n  </thead>\n  <tbody>\n    <tr>\n      <th>209538</th>\n      <td>078946697X</td>\n      <td>DK Readers: Creating the X-Men, How It All Beg...</td>\n      <td>2000</td>\n      <td>DK Publishing Inc</td>\n      <td>http://images.amazon.com/images/P/078946697X.0...</td>\n    </tr>\n    <tr>\n      <th>221678</th>\n      <td>0789466953</td>\n      <td>DK Readers: Creating the X-Men, How Comic Book...</td>\n      <td>2000</td>\n      <td>DK Publishing Inc</td>\n      <td>http://images.amazon.com/images/P/0789466953.0...</td>\n    </tr>\n  </tbody>\n</table>\n</div>"
          },
          "metadata": {}
        }
      ]
    },
    {
      "cell_type": "code",
      "source": [
        "# Extracting and fixing mismatch in feature 'year_of_publication', 'publisher', 'book_author', 'book_title' \n",
        "df_book[df_book['year_of_publication'] == 'Gallimard']"
      ],
      "metadata": {
        "execution": {
          "iopub.status.busy": "2023-01-09T13:39:51.694569Z",
          "iopub.execute_input": "2023-01-09T13:39:51.696152Z",
          "iopub.status.idle": "2023-01-09T13:39:51.729736Z",
          "shell.execute_reply.started": "2023-01-09T13:39:51.696101Z",
          "shell.execute_reply": "2023-01-09T13:39:51.728387Z"
        },
        "trusted": true,
        "id": "CCUHnVcmxt6U",
        "outputId": "1bb8c63c-1b62-4dbd-81e2-96f1c046fbf1"
      },
      "execution_count": null,
      "outputs": [
        {
          "execution_count": 302,
          "output_type": "execute_result",
          "data": {
            "text/plain": "              isbn                                         book_title  \\\n220731  2070426769  Peuple du ciel, suivi de 'Les Bergers\\\";Jean-M...   \n\n       book_author year_of_publication  \\\n220731        2003           Gallimard   \n\n                                                publisher  \n220731  http://images.amazon.com/images/P/2070426769.0...  ",
            "text/html": "<div>\n<style scoped>\n    .dataframe tbody tr th:only-of-type {\n        vertical-align: middle;\n    }\n\n    .dataframe tbody tr th {\n        vertical-align: top;\n    }\n\n    .dataframe thead th {\n        text-align: right;\n    }\n</style>\n<table border=\"1\" class=\"dataframe\">\n  <thead>\n    <tr style=\"text-align: right;\">\n      <th></th>\n      <th>isbn</th>\n      <th>book_title</th>\n      <th>book_author</th>\n      <th>year_of_publication</th>\n      <th>publisher</th>\n    </tr>\n  </thead>\n  <tbody>\n    <tr>\n      <th>220731</th>\n      <td>2070426769</td>\n      <td>Peuple du ciel, suivi de 'Les Bergers\\\";Jean-M...</td>\n      <td>2003</td>\n      <td>Gallimard</td>\n      <td>http://images.amazon.com/images/P/2070426769.0...</td>\n    </tr>\n  </tbody>\n</table>\n</div>"
          },
          "metadata": {}
        }
      ]
    },
    {
      "cell_type": "code",
      "source": [
        "df_book.loc[221678]"
      ],
      "metadata": {
        "execution": {
          "iopub.status.busy": "2023-01-09T13:39:51.731767Z",
          "iopub.execute_input": "2023-01-09T13:39:51.732594Z",
          "iopub.status.idle": "2023-01-09T13:39:51.746918Z",
          "shell.execute_reply.started": "2023-01-09T13:39:51.732531Z",
          "shell.execute_reply": "2023-01-09T13:39:51.745517Z"
        },
        "trusted": true,
        "id": "JFwdncavxt6V",
        "outputId": "30b1f632-0522-447f-8d07-58f433edf5ca"
      },
      "execution_count": null,
      "outputs": [
        {
          "execution_count": 303,
          "output_type": "execute_result",
          "data": {
            "text/plain": "isbn                                                          0789466953\nbook_title             DK Readers: Creating the X-Men, How Comic Book...\nbook_author                                                         2000\nyear_of_publication                                    DK Publishing Inc\npublisher              http://images.amazon.com/images/P/0789466953.0...\nName: 221678, dtype: object"
          },
          "metadata": {}
        }
      ]
    },
    {
      "cell_type": "code",
      "source": [
        "\n",
        "df_book.loc[221678]"
      ],
      "metadata": {
        "execution": {
          "iopub.status.busy": "2023-01-09T13:39:51.748241Z",
          "iopub.execute_input": "2023-01-09T13:39:51.748569Z",
          "iopub.status.idle": "2023-01-09T13:39:51.764234Z",
          "shell.execute_reply.started": "2023-01-09T13:39:51.748540Z",
          "shell.execute_reply": "2023-01-09T13:39:51.762929Z"
        },
        "trusted": true,
        "id": "5UYydtKgxt6V",
        "outputId": "f78a471c-3271-4784-c5f8-a82c5342b771"
      },
      "execution_count": null,
      "outputs": [
        {
          "execution_count": 304,
          "output_type": "execute_result",
          "data": {
            "text/plain": "isbn                                                          0789466953\nbook_title             DK Readers: Creating the X-Men, How Comic Book...\nbook_author                                                         2000\nyear_of_publication                                    DK Publishing Inc\npublisher              http://images.amazon.com/images/P/0789466953.0...\nName: 221678, dtype: object"
          },
          "metadata": {}
        }
      ]
    },
    {
      "cell_type": "code",
      "source": [
        "df_book.loc[220731]"
      ],
      "metadata": {
        "execution": {
          "iopub.status.busy": "2023-01-09T13:39:51.766375Z",
          "iopub.execute_input": "2023-01-09T13:39:51.766769Z",
          "iopub.status.idle": "2023-01-09T13:39:51.777247Z",
          "shell.execute_reply.started": "2023-01-09T13:39:51.766730Z",
          "shell.execute_reply": "2023-01-09T13:39:51.776098Z"
        },
        "trusted": true,
        "id": "oPz5HuQ0xt6W",
        "outputId": "81b738f2-b9c2-4562-d9d8-5fc074467363"
      },
      "execution_count": null,
      "outputs": [
        {
          "execution_count": 305,
          "output_type": "execute_result",
          "data": {
            "text/plain": "isbn                                                          2070426769\nbook_title             Peuple du ciel, suivi de 'Les Bergers\\\";Jean-M...\nbook_author                                                         2003\nyear_of_publication                                            Gallimard\npublisher              http://images.amazon.com/images/P/2070426769.0...\nName: 220731, dtype: object"
          },
          "metadata": {}
        }
      ]
    },
    {
      "cell_type": "code",
      "source": [
        "df_book[df_book['publisher'] == 'No Mention']"
      ],
      "metadata": {
        "execution": {
          "iopub.status.busy": "2023-01-09T13:39:51.779001Z",
          "iopub.execute_input": "2023-01-09T13:39:51.780052Z",
          "iopub.status.idle": "2023-01-09T13:39:51.817699Z",
          "shell.execute_reply.started": "2023-01-09T13:39:51.780007Z",
          "shell.execute_reply": "2023-01-09T13:39:51.816279Z"
        },
        "trusted": true,
        "id": "ch-acAjPxt6X",
        "outputId": "bc7e3081-4ca4-4e8b-fc79-1484b8b0b1c4"
      },
      "execution_count": null,
      "outputs": [
        {
          "execution_count": 306,
          "output_type": "execute_result",
          "data": {
            "text/plain": "              isbn       book_title      book_author year_of_publication  \\\n128890  193169656X      Tyrant Moon  Elaine Corvidae                2002   \n129037  1931696993  Finders Keepers  Linnea Sinclair                2001   \n\n         publisher  \n128890  No Mention  \n129037  No Mention  ",
            "text/html": "<div>\n<style scoped>\n    .dataframe tbody tr th:only-of-type {\n        vertical-align: middle;\n    }\n\n    .dataframe tbody tr th {\n        vertical-align: top;\n    }\n\n    .dataframe thead th {\n        text-align: right;\n    }\n</style>\n<table border=\"1\" class=\"dataframe\">\n  <thead>\n    <tr style=\"text-align: right;\">\n      <th></th>\n      <th>isbn</th>\n      <th>book_title</th>\n      <th>book_author</th>\n      <th>year_of_publication</th>\n      <th>publisher</th>\n    </tr>\n  </thead>\n  <tbody>\n    <tr>\n      <th>128890</th>\n      <td>193169656X</td>\n      <td>Tyrant Moon</td>\n      <td>Elaine Corvidae</td>\n      <td>2002</td>\n      <td>No Mention</td>\n    </tr>\n    <tr>\n      <th>129037</th>\n      <td>1931696993</td>\n      <td>Finders Keepers</td>\n      <td>Linnea Sinclair</td>\n      <td>2001</td>\n      <td>No Mention</td>\n    </tr>\n  </tbody>\n</table>\n</div>"
          },
          "metadata": {}
        }
      ]
    },
    {
      "cell_type": "code",
      "source": [
        "#USER DATASET"
      ],
      "metadata": {
        "execution": {
          "iopub.status.busy": "2023-01-09T13:39:51.819474Z",
          "iopub.execute_input": "2023-01-09T13:39:51.819863Z",
          "iopub.status.idle": "2023-01-09T13:39:51.824600Z",
          "shell.execute_reply.started": "2023-01-09T13:39:51.819803Z",
          "shell.execute_reply": "2023-01-09T13:39:51.823393Z"
        },
        "trusted": true,
        "id": "LWBg3ENfxt6b"
      },
      "execution_count": null,
      "outputs": []
    },
    {
      "cell_type": "code",
      "source": [
        "#User data\n",
        "df_user=pd.read_csv(\"/kaggle/input/book-recommonder-system/Users.csv\")\n",
        "df_user"
      ],
      "metadata": {
        "execution": {
          "iopub.status.busy": "2023-01-09T13:39:51.826241Z",
          "iopub.execute_input": "2023-01-09T13:39:51.827047Z",
          "iopub.status.idle": "2023-01-09T13:39:52.069394Z",
          "shell.execute_reply.started": "2023-01-09T13:39:51.827011Z",
          "shell.execute_reply": "2023-01-09T13:39:52.068154Z"
        },
        "trusted": true,
        "id": "6mfC4I7Yxt6c",
        "outputId": "2264ee6e-5bcd-41dc-b0f8-59cfacbf272d"
      },
      "execution_count": null,
      "outputs": [
        {
          "execution_count": 308,
          "output_type": "execute_result",
          "data": {
            "text/plain": "        User-ID                            Location   Age\n0             1                  nyc, new york, usa   NaN\n1             2           stockton, california, usa  18.0\n2             3     moscow, yukon territory, russia   NaN\n3             4           porto, v.n.gaia, portugal  17.0\n4             5  farnborough, hants, united kingdom   NaN\n...         ...                                 ...   ...\n278853   278854               portland, oregon, usa   NaN\n278854   278855  tacoma, washington, united kingdom  50.0\n278855   278856           brampton, ontario, canada   NaN\n278856   278857           knoxville, tennessee, usa   NaN\n278857   278858                dublin, n/a, ireland   NaN\n\n[278858 rows x 3 columns]",
            "text/html": "<div>\n<style scoped>\n    .dataframe tbody tr th:only-of-type {\n        vertical-align: middle;\n    }\n\n    .dataframe tbody tr th {\n        vertical-align: top;\n    }\n\n    .dataframe thead th {\n        text-align: right;\n    }\n</style>\n<table border=\"1\" class=\"dataframe\">\n  <thead>\n    <tr style=\"text-align: right;\">\n      <th></th>\n      <th>User-ID</th>\n      <th>Location</th>\n      <th>Age</th>\n    </tr>\n  </thead>\n  <tbody>\n    <tr>\n      <th>0</th>\n      <td>1</td>\n      <td>nyc, new york, usa</td>\n      <td>NaN</td>\n    </tr>\n    <tr>\n      <th>1</th>\n      <td>2</td>\n      <td>stockton, california, usa</td>\n      <td>18.0</td>\n    </tr>\n    <tr>\n      <th>2</th>\n      <td>3</td>\n      <td>moscow, yukon territory, russia</td>\n      <td>NaN</td>\n    </tr>\n    <tr>\n      <th>3</th>\n      <td>4</td>\n      <td>porto, v.n.gaia, portugal</td>\n      <td>17.0</td>\n    </tr>\n    <tr>\n      <th>4</th>\n      <td>5</td>\n      <td>farnborough, hants, united kingdom</td>\n      <td>NaN</td>\n    </tr>\n    <tr>\n      <th>...</th>\n      <td>...</td>\n      <td>...</td>\n      <td>...</td>\n    </tr>\n    <tr>\n      <th>278853</th>\n      <td>278854</td>\n      <td>portland, oregon, usa</td>\n      <td>NaN</td>\n    </tr>\n    <tr>\n      <th>278854</th>\n      <td>278855</td>\n      <td>tacoma, washington, united kingdom</td>\n      <td>50.0</td>\n    </tr>\n    <tr>\n      <th>278855</th>\n      <td>278856</td>\n      <td>brampton, ontario, canada</td>\n      <td>NaN</td>\n    </tr>\n    <tr>\n      <th>278856</th>\n      <td>278857</td>\n      <td>knoxville, tennessee, usa</td>\n      <td>NaN</td>\n    </tr>\n    <tr>\n      <th>278857</th>\n      <td>278858</td>\n      <td>dublin, n/a, ireland</td>\n      <td>NaN</td>\n    </tr>\n  </tbody>\n</table>\n<p>278858 rows × 3 columns</p>\n</div>"
          },
          "metadata": {}
        }
      ]
    },
    {
      "cell_type": "code",
      "source": [
        "#conert \"-\" into \"_\"\n",
        "df_user.columns= df_user.columns.str.strip().str.lower().str.replace('-', '_')"
      ],
      "metadata": {
        "execution": {
          "iopub.status.busy": "2023-01-09T13:39:52.071165Z",
          "iopub.execute_input": "2023-01-09T13:39:52.072681Z",
          "iopub.status.idle": "2023-01-09T13:39:52.079198Z",
          "shell.execute_reply.started": "2023-01-09T13:39:52.072623Z",
          "shell.execute_reply": "2023-01-09T13:39:52.077708Z"
        },
        "trusted": true,
        "id": "u9VQbF75xt6d"
      },
      "execution_count": null,
      "outputs": []
    },
    {
      "cell_type": "code",
      "source": [
        "# users_data size\n",
        "print(df_user.shape)"
      ],
      "metadata": {
        "execution": {
          "iopub.status.busy": "2023-01-09T13:39:52.080951Z",
          "iopub.execute_input": "2023-01-09T13:39:52.081330Z",
          "iopub.status.idle": "2023-01-09T13:39:52.095390Z",
          "shell.execute_reply.started": "2023-01-09T13:39:52.081296Z",
          "shell.execute_reply": "2023-01-09T13:39:52.093208Z"
        },
        "trusted": true,
        "id": "vgLILiYpxt6e",
        "outputId": "6debb96c-5670-4250-b9fe-e9ba3daad024"
      },
      "execution_count": null,
      "outputs": [
        {
          "name": "stdout",
          "text": "(278858, 3)\n",
          "output_type": "stream"
        }
      ]
    },
    {
      "cell_type": "code",
      "source": [
        "# unique value in age\n",
        "df_user['age'].unique()"
      ],
      "metadata": {
        "execution": {
          "iopub.status.busy": "2023-01-09T13:39:52.096873Z",
          "iopub.execute_input": "2023-01-09T13:39:52.097269Z",
          "iopub.status.idle": "2023-01-09T13:39:52.116314Z",
          "shell.execute_reply.started": "2023-01-09T13:39:52.097234Z",
          "shell.execute_reply": "2023-01-09T13:39:52.115302Z"
        },
        "trusted": true,
        "id": "EkMFDab_xt6e",
        "outputId": "32666fb0-2322-4dbb-85a7-e04bee34e5cc"
      },
      "execution_count": null,
      "outputs": [
        {
          "execution_count": 311,
          "output_type": "execute_result",
          "data": {
            "text/plain": "array([ nan,  18.,  17.,  61.,  26.,  14.,  25.,  19.,  46.,  55.,  32.,\n        24.,  20.,  34.,  23.,  51.,  31.,  21.,  44.,  30.,  57.,  43.,\n        37.,  41.,  54.,  42.,  50.,  39.,  53.,  47.,  36.,  28.,  35.,\n        13.,  58.,  49.,  38.,  45.,  62.,  63.,  27.,  33.,  29.,  66.,\n        40.,  15.,  60.,   0.,  79.,  22.,  16.,  65.,  59.,  48.,  72.,\n        56.,  67.,   1.,  80.,  52.,  69.,  71.,  73.,  78.,   9.,  64.,\n       103., 104.,  12.,  74.,  75., 231.,   3.,  76.,  83.,  68., 119.,\n        11.,  77.,   2.,  70.,  93.,   8.,   7.,   4.,  81., 114., 230.,\n       239.,  10.,   5., 148., 151.,   6., 101., 201.,  96.,  84.,  82.,\n        90., 123., 244., 133.,  91., 128.,  94.,  85., 141., 110.,  97.,\n       219.,  86., 124.,  92., 175., 172., 209., 212., 237.,  87., 162.,\n       100., 156., 136.,  95.,  89., 106.,  99., 108., 210.,  88., 199.,\n       147., 168., 132., 159., 186., 152., 102., 116., 200., 115., 226.,\n       137., 207., 229., 138., 109., 105., 228., 183., 204.,  98., 223.,\n       113., 208., 107., 157., 111., 146., 118., 220., 143., 140., 189.,\n       127.])"
          },
          "metadata": {}
        }
      ]
    },
    {
      "cell_type": "code",
      "source": [
        "# replacing nan with average of 'age'\n",
        "df_user['age'].fillna((df_user['age'].mean()), inplace=True)"
      ],
      "metadata": {
        "execution": {
          "iopub.status.busy": "2023-01-09T13:39:52.117918Z",
          "iopub.execute_input": "2023-01-09T13:39:52.118841Z",
          "iopub.status.idle": "2023-01-09T13:39:52.129504Z",
          "shell.execute_reply.started": "2023-01-09T13:39:52.118785Z",
          "shell.execute_reply": "2023-01-09T13:39:52.128469Z"
        },
        "trusted": true,
        "id": "rMDbdFWVxt6f"
      },
      "execution_count": null,
      "outputs": []
    },
    {
      "cell_type": "code",
      "source": [
        "#uniuque values \n",
        "df_user['age'].unique()"
      ],
      "metadata": {
        "execution": {
          "iopub.status.busy": "2023-01-09T13:39:52.139953Z",
          "iopub.execute_input": "2023-01-09T13:39:52.140796Z",
          "iopub.status.idle": "2023-01-09T13:39:52.154392Z",
          "shell.execute_reply.started": "2023-01-09T13:39:52.140756Z",
          "shell.execute_reply": "2023-01-09T13:39:52.153035Z"
        },
        "trusted": true,
        "id": "egyE1D7cxt6f",
        "outputId": "3a31c3a9-9d5b-4713-c7fd-57eef8f34763"
      },
      "execution_count": null,
      "outputs": [
        {
          "execution_count": 313,
          "output_type": "execute_result",
          "data": {
            "text/plain": "array([ 34.7514337,  18.       ,  17.       ,  61.       ,  26.       ,\n        14.       ,  25.       ,  19.       ,  46.       ,  55.       ,\n        32.       ,  24.       ,  20.       ,  34.       ,  23.       ,\n        51.       ,  31.       ,  21.       ,  44.       ,  30.       ,\n        57.       ,  43.       ,  37.       ,  41.       ,  54.       ,\n        42.       ,  50.       ,  39.       ,  53.       ,  47.       ,\n        36.       ,  28.       ,  35.       ,  13.       ,  58.       ,\n        49.       ,  38.       ,  45.       ,  62.       ,  63.       ,\n        27.       ,  33.       ,  29.       ,  66.       ,  40.       ,\n        15.       ,  60.       ,   0.       ,  79.       ,  22.       ,\n        16.       ,  65.       ,  59.       ,  48.       ,  72.       ,\n        56.       ,  67.       ,   1.       ,  80.       ,  52.       ,\n        69.       ,  71.       ,  73.       ,  78.       ,   9.       ,\n        64.       , 103.       , 104.       ,  12.       ,  74.       ,\n        75.       , 231.       ,   3.       ,  76.       ,  83.       ,\n        68.       , 119.       ,  11.       ,  77.       ,   2.       ,\n        70.       ,  93.       ,   8.       ,   7.       ,   4.       ,\n        81.       , 114.       , 230.       , 239.       ,  10.       ,\n         5.       , 148.       , 151.       ,   6.       , 101.       ,\n       201.       ,  96.       ,  84.       ,  82.       ,  90.       ,\n       123.       , 244.       , 133.       ,  91.       , 128.       ,\n        94.       ,  85.       , 141.       , 110.       ,  97.       ,\n       219.       ,  86.       , 124.       ,  92.       , 175.       ,\n       172.       , 209.       , 212.       , 237.       ,  87.       ,\n       162.       , 100.       , 156.       , 136.       ,  95.       ,\n        89.       , 106.       ,  99.       , 108.       , 210.       ,\n        88.       , 199.       , 147.       , 168.       , 132.       ,\n       159.       , 186.       , 152.       , 102.       , 116.       ,\n       200.       , 115.       , 226.       , 137.       , 207.       ,\n       229.       , 138.       , 109.       , 105.       , 228.       ,\n       183.       , 204.       ,  98.       , 223.       , 113.       ,\n       208.       , 107.       , 157.       , 111.       , 146.       ,\n       118.       , 220.       , 143.       , 140.       , 189.       ,\n       127.       ])"
          },
          "metadata": {}
        }
      ]
    },
    {
      "cell_type": "code",
      "source": [
        "# retrieving age data between 5 to 90\n",
        "df_user.loc[(df_user['age'] > 90) | (df_user['age'] < 5)] = np.nan"
      ],
      "metadata": {
        "execution": {
          "iopub.status.busy": "2023-01-09T13:39:52.156409Z",
          "iopub.execute_input": "2023-01-09T13:39:52.156859Z",
          "iopub.status.idle": "2023-01-09T13:39:52.180757Z",
          "shell.execute_reply.started": "2023-01-09T13:39:52.156800Z",
          "shell.execute_reply": "2023-01-09T13:39:52.179746Z"
        },
        "trusted": true,
        "id": "wG7FTn4Gxt6g"
      },
      "execution_count": null,
      "outputs": []
    },
    {
      "cell_type": "code",
      "source": [
        "#fill the age with its mean value\n",
        "df_user['age'].fillna((df_user['age'].mean()), inplace=True)"
      ],
      "metadata": {
        "execution": {
          "iopub.status.busy": "2023-01-09T13:39:52.182090Z",
          "iopub.execute_input": "2023-01-09T13:39:52.182629Z",
          "iopub.status.idle": "2023-01-09T13:39:52.193077Z",
          "shell.execute_reply.started": "2023-01-09T13:39:52.182593Z",
          "shell.execute_reply": "2023-01-09T13:39:52.191488Z"
        },
        "trusted": true,
        "id": "H3pZULfKxt6g"
      },
      "execution_count": null,
      "outputs": []
    },
    {
      "cell_type": "code",
      "source": [
        "# age unique value\n",
        "df_user['age'].unique()"
      ],
      "metadata": {
        "execution": {
          "iopub.status.busy": "2023-01-09T13:39:52.194879Z",
          "iopub.execute_input": "2023-01-09T13:39:52.195356Z",
          "iopub.status.idle": "2023-01-09T13:39:52.213440Z",
          "shell.execute_reply.started": "2023-01-09T13:39:52.195310Z",
          "shell.execute_reply": "2023-01-09T13:39:52.211927Z"
        },
        "trusted": true,
        "id": "T_SQ-_gmxt6h",
        "outputId": "0f05d5e7-d988-4afa-9b01-e2484aac5034"
      },
      "execution_count": null,
      "outputs": [
        {
          "execution_count": 316,
          "output_type": "execute_result",
          "data": {
            "text/plain": "array([34.7514337 , 18.        , 17.        , 61.        , 26.        ,\n       14.        , 25.        , 19.        , 46.        , 55.        ,\n       32.        , 24.        , 20.        , 34.        , 23.        ,\n       51.        , 31.        , 21.        , 44.        , 30.        ,\n       57.        , 43.        , 37.        , 41.        , 54.        ,\n       42.        , 50.        , 39.        , 53.        , 47.        ,\n       36.        , 28.        , 35.        , 13.        , 58.        ,\n       49.        , 38.        , 45.        , 62.        , 63.        ,\n       27.        , 33.        , 29.        , 66.        , 40.        ,\n       15.        , 60.        , 34.73485224, 79.        , 22.        ,\n       16.        , 65.        , 59.        , 48.        , 72.        ,\n       56.        , 67.        , 80.        , 52.        , 69.        ,\n       71.        , 73.        , 78.        ,  9.        , 64.        ,\n       12.        , 74.        , 75.        , 76.        , 83.        ,\n       68.        , 11.        , 77.        , 70.        ,  8.        ,\n        7.        , 81.        , 10.        ,  5.        ,  6.        ,\n       84.        , 82.        , 90.        , 85.        , 86.        ,\n       87.        , 89.        , 88.        ])"
          },
          "metadata": {}
        }
      ]
    },
    {
      "cell_type": "code",
      "source": [
        "#RATING DATASET"
      ],
      "metadata": {
        "execution": {
          "iopub.status.busy": "2023-01-09T13:39:52.215683Z",
          "iopub.execute_input": "2023-01-09T13:39:52.216665Z",
          "iopub.status.idle": "2023-01-09T13:39:52.221504Z",
          "shell.execute_reply.started": "2023-01-09T13:39:52.216616Z",
          "shell.execute_reply": "2023-01-09T13:39:52.220626Z"
        },
        "trusted": true,
        "id": "_wJh47EFxt6h"
      },
      "execution_count": null,
      "outputs": []
    },
    {
      "cell_type": "code",
      "source": [
        "#Ratings Dataframe\n",
        "df_rating=pd.read_csv(\"/kaggle/input/book-recommonder-system/Ratings.csv\")\n",
        "df_rating"
      ],
      "metadata": {
        "execution": {
          "iopub.status.busy": "2023-01-09T13:39:52.222938Z",
          "iopub.execute_input": "2023-01-09T13:39:52.224338Z",
          "iopub.status.idle": "2023-01-09T13:39:52.912932Z",
          "shell.execute_reply.started": "2023-01-09T13:39:52.224286Z",
          "shell.execute_reply": "2023-01-09T13:39:52.911356Z"
        },
        "trusted": true,
        "id": "2XU_5Wyhxt6i",
        "outputId": "3b2b58c0-df86-42e1-e62f-a3e36b2ef996"
      },
      "execution_count": null,
      "outputs": [
        {
          "execution_count": 318,
          "output_type": "execute_result",
          "data": {
            "text/plain": "         User-ID         ISBN  Book-Rating\n0         276725   034545104X            0\n1         276726   0155061224            5\n2         276727   0446520802            0\n3         276729   052165615X            3\n4         276729   0521795028            6\n...          ...          ...          ...\n1149775   276704   1563526298            9\n1149776   276706   0679447156            0\n1149777   276709   0515107662           10\n1149778   276721   0590442449           10\n1149779   276723  05162443314            8\n\n[1149780 rows x 3 columns]",
            "text/html": "<div>\n<style scoped>\n    .dataframe tbody tr th:only-of-type {\n        vertical-align: middle;\n    }\n\n    .dataframe tbody tr th {\n        vertical-align: top;\n    }\n\n    .dataframe thead th {\n        text-align: right;\n    }\n</style>\n<table border=\"1\" class=\"dataframe\">\n  <thead>\n    <tr style=\"text-align: right;\">\n      <th></th>\n      <th>User-ID</th>\n      <th>ISBN</th>\n      <th>Book-Rating</th>\n    </tr>\n  </thead>\n  <tbody>\n    <tr>\n      <th>0</th>\n      <td>276725</td>\n      <td>034545104X</td>\n      <td>0</td>\n    </tr>\n    <tr>\n      <th>1</th>\n      <td>276726</td>\n      <td>0155061224</td>\n      <td>5</td>\n    </tr>\n    <tr>\n      <th>2</th>\n      <td>276727</td>\n      <td>0446520802</td>\n      <td>0</td>\n    </tr>\n    <tr>\n      <th>3</th>\n      <td>276729</td>\n      <td>052165615X</td>\n      <td>3</td>\n    </tr>\n    <tr>\n      <th>4</th>\n      <td>276729</td>\n      <td>0521795028</td>\n      <td>6</td>\n    </tr>\n    <tr>\n      <th>...</th>\n      <td>...</td>\n      <td>...</td>\n      <td>...</td>\n    </tr>\n    <tr>\n      <th>1149775</th>\n      <td>276704</td>\n      <td>1563526298</td>\n      <td>9</td>\n    </tr>\n    <tr>\n      <th>1149776</th>\n      <td>276706</td>\n      <td>0679447156</td>\n      <td>0</td>\n    </tr>\n    <tr>\n      <th>1149777</th>\n      <td>276709</td>\n      <td>0515107662</td>\n      <td>10</td>\n    </tr>\n    <tr>\n      <th>1149778</th>\n      <td>276721</td>\n      <td>0590442449</td>\n      <td>10</td>\n    </tr>\n    <tr>\n      <th>1149779</th>\n      <td>276723</td>\n      <td>05162443314</td>\n      <td>8</td>\n    </tr>\n  </tbody>\n</table>\n<p>1149780 rows × 3 columns</p>\n</div>"
          },
          "metadata": {}
        }
      ]
    },
    {
      "cell_type": "code",
      "source": [
        "#Convert rating variables from \"-\" into \"_\"\n",
        "df_rating.columns= df_rating.columns.str.strip().str.lower().str.replace('-', '_')"
      ],
      "metadata": {
        "execution": {
          "iopub.status.busy": "2023-01-09T13:39:52.915332Z",
          "iopub.execute_input": "2023-01-09T13:39:52.915699Z",
          "iopub.status.idle": "2023-01-09T13:39:52.922896Z",
          "shell.execute_reply.started": "2023-01-09T13:39:52.915669Z",
          "shell.execute_reply": "2023-01-09T13:39:52.921591Z"
        },
        "trusted": true,
        "id": "KAgBWLBnxt6j"
      },
      "execution_count": null,
      "outputs": []
    },
    {
      "cell_type": "code",
      "source": [
        "\n",
        "# finding unique ISBNs from rating and book dataset\n",
        "unique_ratings = df_rating[df_rating.isbn.isin(df_book.isbn)]\n",
        "unique_ratings"
      ],
      "metadata": {
        "execution": {
          "iopub.status.busy": "2023-01-09T13:39:52.924266Z",
          "iopub.execute_input": "2023-01-09T13:39:52.924613Z",
          "iopub.status.idle": "2023-01-09T13:39:53.387719Z",
          "shell.execute_reply.started": "2023-01-09T13:39:52.924580Z",
          "shell.execute_reply": "2023-01-09T13:39:53.386352Z"
        },
        "trusted": true,
        "id": "gZd4tTQDxt6j",
        "outputId": "ace938a6-4abb-43ec-f288-7b59c841c410"
      },
      "execution_count": null,
      "outputs": [
        {
          "execution_count": 320,
          "output_type": "execute_result",
          "data": {
            "text/plain": "         user_id        isbn  book_rating\n0         276725  034545104X            0\n1         276726  0155061224            5\n2         276727  0446520802            0\n3         276729  052165615X            3\n4         276729  0521795028            6\n...          ...         ...          ...\n1149774   276704  0876044011            0\n1149775   276704  1563526298            9\n1149776   276706  0679447156            0\n1149777   276709  0515107662           10\n1149778   276721  0590442449           10\n\n[1031136 rows x 3 columns]",
            "text/html": "<div>\n<style scoped>\n    .dataframe tbody tr th:only-of-type {\n        vertical-align: middle;\n    }\n\n    .dataframe tbody tr th {\n        vertical-align: top;\n    }\n\n    .dataframe thead th {\n        text-align: right;\n    }\n</style>\n<table border=\"1\" class=\"dataframe\">\n  <thead>\n    <tr style=\"text-align: right;\">\n      <th></th>\n      <th>user_id</th>\n      <th>isbn</th>\n      <th>book_rating</th>\n    </tr>\n  </thead>\n  <tbody>\n    <tr>\n      <th>0</th>\n      <td>276725</td>\n      <td>034545104X</td>\n      <td>0</td>\n    </tr>\n    <tr>\n      <th>1</th>\n      <td>276726</td>\n      <td>0155061224</td>\n      <td>5</td>\n    </tr>\n    <tr>\n      <th>2</th>\n      <td>276727</td>\n      <td>0446520802</td>\n      <td>0</td>\n    </tr>\n    <tr>\n      <th>3</th>\n      <td>276729</td>\n      <td>052165615X</td>\n      <td>3</td>\n    </tr>\n    <tr>\n      <th>4</th>\n      <td>276729</td>\n      <td>0521795028</td>\n      <td>6</td>\n    </tr>\n    <tr>\n      <th>...</th>\n      <td>...</td>\n      <td>...</td>\n      <td>...</td>\n    </tr>\n    <tr>\n      <th>1149774</th>\n      <td>276704</td>\n      <td>0876044011</td>\n      <td>0</td>\n    </tr>\n    <tr>\n      <th>1149775</th>\n      <td>276704</td>\n      <td>1563526298</td>\n      <td>9</td>\n    </tr>\n    <tr>\n      <th>1149776</th>\n      <td>276706</td>\n      <td>0679447156</td>\n      <td>0</td>\n    </tr>\n    <tr>\n      <th>1149777</th>\n      <td>276709</td>\n      <td>0515107662</td>\n      <td>10</td>\n    </tr>\n    <tr>\n      <th>1149778</th>\n      <td>276721</td>\n      <td>0590442449</td>\n      <td>10</td>\n    </tr>\n  </tbody>\n</table>\n<p>1031136 rows × 3 columns</p>\n</div>"
          },
          "metadata": {}
        }
      ]
    },
    {
      "cell_type": "code",
      "source": [
        "#Lets take shapes of dataframe\n",
        "print(df_rating.shape)\n",
        "print(unique_ratings.shape)"
      ],
      "metadata": {
        "execution": {
          "iopub.status.busy": "2023-01-09T13:39:53.389801Z",
          "iopub.execute_input": "2023-01-09T13:39:53.390192Z",
          "iopub.status.idle": "2023-01-09T13:39:53.397319Z",
          "shell.execute_reply.started": "2023-01-09T13:39:53.390158Z",
          "shell.execute_reply": "2023-01-09T13:39:53.395920Z"
        },
        "trusted": true,
        "id": "1fN11S89xt6k",
        "outputId": "95ed3b71-e8d4-4c28-aa73-360572ebd11d"
      },
      "execution_count": null,
      "outputs": [
        {
          "name": "stdout",
          "text": "(1149780, 3)\n(1031136, 3)\n",
          "output_type": "stream"
        }
      ]
    },
    {
      "cell_type": "code",
      "source": [
        "# unique ratings from 'book_rating' feature\n",
        "unique_ratings['book_rating'].unique()"
      ],
      "metadata": {
        "execution": {
          "iopub.status.busy": "2023-01-09T13:39:53.399121Z",
          "iopub.execute_input": "2023-01-09T13:39:53.399438Z",
          "iopub.status.idle": "2023-01-09T13:39:53.417640Z",
          "shell.execute_reply.started": "2023-01-09T13:39:53.399410Z",
          "shell.execute_reply": "2023-01-09T13:39:53.416234Z"
        },
        "trusted": true,
        "id": "7QBDloamxt6k",
        "outputId": "4d95931c-b5cc-403b-a2dc-eebe817130c5"
      },
      "execution_count": null,
      "outputs": [
        {
          "execution_count": 322,
          "output_type": "execute_result",
          "data": {
            "text/plain": "array([ 0,  5,  3,  6,  7,  9,  8, 10,  1,  4,  2])"
          },
          "metadata": {}
        }
      ]
    },
    {
      "cell_type": "code",
      "source": [
        "#Data Visualizations"
      ],
      "metadata": {
        "execution": {
          "iopub.status.busy": "2023-01-09T13:39:53.419468Z",
          "iopub.execute_input": "2023-01-09T13:39:53.420126Z",
          "iopub.status.idle": "2023-01-09T13:39:53.424850Z",
          "shell.execute_reply.started": "2023-01-09T13:39:53.420085Z",
          "shell.execute_reply": "2023-01-09T13:39:53.423684Z"
        },
        "trusted": true,
        "id": "xfCxvDXqxt6l"
      },
      "execution_count": null,
      "outputs": []
    },
    {
      "cell_type": "code",
      "source": [
        "#Book_data"
      ],
      "metadata": {
        "execution": {
          "iopub.status.busy": "2023-01-09T13:39:53.426741Z",
          "iopub.execute_input": "2023-01-09T13:39:53.427178Z",
          "iopub.status.idle": "2023-01-09T13:39:53.437767Z",
          "shell.execute_reply.started": "2023-01-09T13:39:53.427125Z",
          "shell.execute_reply": "2023-01-09T13:39:53.436782Z"
        },
        "trusted": true,
        "id": "DJLlaoJaxt6l"
      },
      "execution_count": null,
      "outputs": []
    },
    {
      "cell_type": "code",
      "source": [
        "#Top 20 author with number of books\n",
        "plt.figure(figsize=(12,6))\n",
        "sns.countplot(y=\"book_author\",palette = 'Paired', data=df_book,order=df_book['book_author'].value_counts().index[0:20])\n",
        "plt.title(\"Top 20 author with number of books\")"
      ],
      "metadata": {
        "execution": {
          "iopub.status.busy": "2023-01-09T13:39:53.438975Z",
          "iopub.execute_input": "2023-01-09T13:39:53.439327Z",
          "iopub.status.idle": "2023-01-09T13:39:54.431373Z",
          "shell.execute_reply.started": "2023-01-09T13:39:53.439283Z",
          "shell.execute_reply": "2023-01-09T13:39:54.430540Z"
        },
        "trusted": true,
        "id": "d0By-taYxt6m",
        "outputId": "f8e4d783-ece3-422a-fa38-51c8d70a3289"
      },
      "execution_count": null,
      "outputs": [
        {
          "execution_count": 325,
          "output_type": "execute_result",
          "data": {
            "text/plain": "Text(0.5, 1.0, 'Top 20 author with number of books')"
          },
          "metadata": {}
        },
        {
          "output_type": "display_data",
          "data": {
            "text/plain": "<Figure size 864x432 with 1 Axes>",
            "image/png": "[encoded data removed]"
          },
          "metadata": {
            "needs_background": "light"
          }
        }
      ]
    },
    {
      "cell_type": "code",
      "source": [
        "#Top 20 Publishers with number of books published\n",
        "plt.figure(figsize=(12,6))\n",
        "sns.countplot(y=\"publisher\",palette = 'Paired', data=df_book,order=df_book['publisher'].value_counts().index[0:20])\n",
        "plt.title(\"Top 20 Publishers with number of books published\")"
      ],
      "metadata": {
        "execution": {
          "iopub.status.busy": "2023-01-09T13:39:54.432511Z",
          "iopub.execute_input": "2023-01-09T13:39:54.433476Z",
          "iopub.status.idle": "2023-01-09T13:39:55.005465Z",
          "shell.execute_reply.started": "2023-01-09T13:39:54.433440Z",
          "shell.execute_reply": "2023-01-09T13:39:55.004258Z"
        },
        "trusted": true,
        "id": "CVdpFrUoxt6m",
        "outputId": "2cd8024f-2ce2-4681-e9e3-b06d51b897e9"
      },
      "execution_count": null,
      "outputs": [
        {
          "execution_count": 326,
          "output_type": "execute_result",
          "data": {
            "text/plain": "Text(0.5, 1.0, 'Top 20 Publishers with number of books published')"
          },
          "metadata": {}
        },
        {
          "output_type": "display_data",
          "data": {
            "text/plain": "<Figure size 864x432 with 1 Axes>",
            "image/png": "[encoded data removed]"
          },
          "metadata": {
            "needs_background": "light"
          }
        }
      ]
    },
    {
      "cell_type": "code",
      "source": [
        "#USER DATASET"
      ],
      "metadata": {
        "execution": {
          "iopub.status.busy": "2023-01-09T13:39:55.007032Z",
          "iopub.execute_input": "2023-01-09T13:39:55.007948Z",
          "iopub.status.idle": "2023-01-09T13:39:55.012476Z",
          "shell.execute_reply.started": "2023-01-09T13:39:55.007905Z",
          "shell.execute_reply": "2023-01-09T13:39:55.011057Z"
        },
        "trusted": true,
        "id": "NtiYfFACxt6n"
      },
      "execution_count": null,
      "outputs": []
    },
    {
      "cell_type": "code",
      "source": [
        "#Age Distribution by Graph\n",
        "plt.figure(figsize=(10,8))\n",
        "df_user.age.hist(bins=[10*i for i in range(1, 10)], color = 'cyan')     \n",
        "plt.title('Age Distribution')\n",
        "plt.xlabel('Age')\n",
        "plt.ylabel('Count')\n",
        "plt.show()"
      ],
      "metadata": {
        "execution": {
          "iopub.status.busy": "2023-01-09T13:39:55.014443Z",
          "iopub.execute_input": "2023-01-09T13:39:55.014840Z",
          "iopub.status.idle": "2023-01-09T13:39:55.538345Z",
          "shell.execute_reply.started": "2023-01-09T13:39:55.014792Z",
          "shell.execute_reply": "2023-01-09T13:39:55.537270Z"
        },
        "trusted": true,
        "id": "h2qqNZRxxt6n",
        "outputId": "2e5b38bf-03ba-423a-b526-0440fe9db4ca"
      },
      "execution_count": null,
      "outputs": [
        {
          "output_type": "display_data",
          "data": {
            "text/plain": "<Figure size 720x576 with 1 Axes>",
            "image/png": "[encoded data removed]"
          },
          "metadata": {
            "needs_background": "light"
          }
        }
      ]
    },
    {
      "cell_type": "code",
      "source": [
        "#RATING DATASET"
      ],
      "metadata": {
        "execution": {
          "iopub.status.busy": "2023-01-09T13:39:55.539677Z",
          "iopub.execute_input": "2023-01-09T13:39:55.540015Z",
          "iopub.status.idle": "2023-01-09T13:39:55.544659Z",
          "shell.execute_reply.started": "2023-01-09T13:39:55.539984Z",
          "shell.execute_reply": "2023-01-09T13:39:55.543355Z"
        },
        "trusted": true,
        "id": "PVIW4SHExt6o"
      },
      "execution_count": null,
      "outputs": []
    },
    {
      "cell_type": "code",
      "source": [
        "#Top 20 books as per number of ratings\n",
        "plt.figure(figsize=(12,6))\n",
        "sns.countplot(y=\"book_title\",palette = 'Paired',data= df_book, order=df_book['book_title'].value_counts().index[0:15])\n",
        "plt.title(\"Top 20 books as per number of ratings\")"
      ],
      "metadata": {
        "execution": {
          "iopub.status.busy": "2023-01-09T13:39:55.546694Z",
          "iopub.execute_input": "2023-01-09T13:39:55.547129Z",
          "iopub.status.idle": "2023-01-09T13:39:57.230284Z",
          "shell.execute_reply.started": "2023-01-09T13:39:55.547095Z",
          "shell.execute_reply": "2023-01-09T13:39:57.228915Z"
        },
        "trusted": true,
        "id": "a8ilZ5y9xt6p",
        "outputId": "49cdffcf-03a4-4514-cf17-0d94c3996e10"
      },
      "execution_count": null,
      "outputs": [
        {
          "execution_count": 330,
          "output_type": "execute_result",
          "data": {
            "text/plain": "Text(0.5, 1.0, 'Top 20 books as per number of ratings')"
          },
          "metadata": {}
        },
        {
          "output_type": "display_data",
          "data": {
            "text/plain": "<Figure size 864x432 with 1 Axes>",
            "image/png": "[encoded data removed]"
          },
          "metadata": {
            "needs_background": "light"
          }
        }
      ]
    },
    {
      "cell_type": "code",
      "source": [
        "#countbox for book rating \n",
        "plt.figure(figsize=(8,6))\n",
        "sns.countplot(x=\"book_rating\",palette = 'Paired',data= unique_ratings)"
      ],
      "metadata": {
        "execution": {
          "iopub.status.busy": "2023-01-09T13:39:57.231773Z",
          "iopub.execute_input": "2023-01-09T13:39:57.232168Z",
          "iopub.status.idle": "2023-01-09T13:39:57.566064Z",
          "shell.execute_reply.started": "2023-01-09T13:39:57.232136Z",
          "shell.execute_reply": "2023-01-09T13:39:57.564844Z"
        },
        "trusted": true,
        "id": "6gGfIarmxt6q",
        "outputId": "c8f3da85-921e-41b8-d96b-9ad1dc9a56d6"
      },
      "execution_count": null,
      "outputs": [
        {
          "execution_count": 331,
          "output_type": "execute_result",
          "data": {
            "text/plain": "<AxesSubplot:xlabel='book_rating', ylabel='count'>"
          },
          "metadata": {}
        },
        {
          "output_type": "display_data",
          "data": {
            "text/plain": "<Figure size 576x432 with 1 Axes>",
            "image/png": "[encoded data removed]"
          },
          "metadata": {
            "needs_background": "light"
          }
        }
      ]
    },
    {
      "cell_type": "code",
      "source": [
        "# Explicit Ratings\n",
        "plt.figure(figsize=(8,6))\n",
        "rate_data = unique_ratings[unique_ratings['book_rating'] != 0]\n",
        "sns.countplot(x=\"book_rating\",palette = 'Paired',data=rate_data)\n",
        "plt.title(\"Explicit Ratings\")"
      ],
      "metadata": {
        "execution": {
          "iopub.status.busy": "2023-01-09T13:39:57.567847Z",
          "iopub.execute_input": "2023-01-09T13:39:57.568225Z",
          "iopub.status.idle": "2023-01-09T13:39:57.857591Z",
          "shell.execute_reply.started": "2023-01-09T13:39:57.568190Z",
          "shell.execute_reply": "2023-01-09T13:39:57.856338Z"
        },
        "trusted": true,
        "id": "Bilh8VObxt6r",
        "outputId": "21c0c5e3-94bf-4ccb-9857-a1fc304c1a9f"
      },
      "execution_count": null,
      "outputs": [
        {
          "execution_count": 332,
          "output_type": "execute_result",
          "data": {
            "text/plain": "Text(0.5, 1.0, 'Explicit Ratings')"
          },
          "metadata": {}
        },
        {
          "output_type": "display_data",
          "data": {
            "text/plain": "<Figure size 576x432 with 1 Axes>",
            "image/png": "[encoded data removed]"
          },
          "metadata": {
            "needs_background": "light"
          }
        }
      ]
    },
    {
      "cell_type": "code",
      "source": [
        "#Recommendation System"
      ],
      "metadata": {
        "execution": {
          "iopub.status.busy": "2023-01-09T13:39:57.860427Z",
          "iopub.execute_input": "2023-01-09T13:39:57.861208Z",
          "iopub.status.idle": "2023-01-09T13:39:57.866507Z",
          "shell.execute_reply.started": "2023-01-09T13:39:57.861161Z",
          "shell.execute_reply": "2023-01-09T13:39:57.865071Z"
        },
        "trusted": true,
        "id": "UgcrXNkfxt6s"
      },
      "execution_count": null,
      "outputs": []
    },
    {
      "cell_type": "code",
      "source": [
        "#Emplicit and explicit Ratings\n",
        "ratings_explicit= unique_ratings[unique_ratings['book_rating'] != 0]   # explicit ratings represented by 1–10\n",
        "ratings_implicit= unique_ratings[unique_ratings['book_rating'] == 0]   # implicit ratings represented by 0"
      ],
      "metadata": {
        "execution": {
          "iopub.status.busy": "2023-01-09T13:39:57.868648Z",
          "iopub.execute_input": "2023-01-09T13:39:57.869130Z",
          "iopub.status.idle": "2023-01-09T13:39:57.949804Z",
          "shell.execute_reply.started": "2023-01-09T13:39:57.869082Z",
          "shell.execute_reply": "2023-01-09T13:39:57.948542Z"
        },
        "trusted": true,
        "id": "IjJCZPr7xt6s"
      },
      "execution_count": null,
      "outputs": []
    },
    {
      "cell_type": "code",
      "source": [
        "ratings_explicit.head()"
      ],
      "metadata": {
        "execution": {
          "iopub.status.busy": "2023-01-09T13:39:57.951216Z",
          "iopub.execute_input": "2023-01-09T13:39:57.951582Z",
          "iopub.status.idle": "2023-01-09T13:39:57.964450Z",
          "shell.execute_reply.started": "2023-01-09T13:39:57.951547Z",
          "shell.execute_reply": "2023-01-09T13:39:57.962970Z"
        },
        "trusted": true,
        "id": "EYJNyXHqxt6u",
        "outputId": "97c592f5-78f7-4db3-ccb4-0aa367da511f"
      },
      "execution_count": null,
      "outputs": [
        {
          "execution_count": 335,
          "output_type": "execute_result",
          "data": {
            "text/plain": "    user_id        isbn  book_rating\n1    276726  0155061224            5\n3    276729  052165615X            3\n4    276729  0521795028            6\n8    276744  038550120X            7\n16   276747  0060517794            9",
            "text/html": "<div>\n<style scoped>\n    .dataframe tbody tr th:only-of-type {\n        vertical-align: middle;\n    }\n\n    .dataframe tbody tr th {\n        vertical-align: top;\n    }\n\n    .dataframe thead th {\n        text-align: right;\n    }\n</style>\n<table border=\"1\" class=\"dataframe\">\n  <thead>\n    <tr style=\"text-align: right;\">\n      <th></th>\n      <th>user_id</th>\n      <th>isbn</th>\n      <th>book_rating</th>\n    </tr>\n  </thead>\n  <tbody>\n    <tr>\n      <th>1</th>\n      <td>276726</td>\n      <td>0155061224</td>\n      <td>5</td>\n    </tr>\n    <tr>\n      <th>3</th>\n      <td>276729</td>\n      <td>052165615X</td>\n      <td>3</td>\n    </tr>\n    <tr>\n      <th>4</th>\n      <td>276729</td>\n      <td>0521795028</td>\n      <td>6</td>\n    </tr>\n    <tr>\n      <th>8</th>\n      <td>276744</td>\n      <td>038550120X</td>\n      <td>7</td>\n    </tr>\n    <tr>\n      <th>16</th>\n      <td>276747</td>\n      <td>0060517794</td>\n      <td>9</td>\n    </tr>\n  </tbody>\n</table>\n</div>"
          },
          "metadata": {}
        }
      ]
    },
    {
      "cell_type": "code",
      "source": [
        "#Shape of Rating dataset\n",
        "print(unique_ratings.shape)\n",
        "print(ratings_explicit.shape)"
      ],
      "metadata": {
        "execution": {
          "iopub.status.busy": "2023-01-09T13:39:57.966015Z",
          "iopub.execute_input": "2023-01-09T13:39:57.966450Z",
          "iopub.status.idle": "2023-01-09T13:39:57.972972Z",
          "shell.execute_reply.started": "2023-01-09T13:39:57.966402Z",
          "shell.execute_reply": "2023-01-09T13:39:57.971897Z"
        },
        "trusted": true,
        "id": "PoN06xelxt6u",
        "outputId": "e3cfa6b1-e68d-4a2b-b1e7-3853b4e78c44"
      },
      "execution_count": null,
      "outputs": [
        {
          "name": "stdout",
          "text": "(1031136, 3)\n(383842, 3)\n",
          "output_type": "stream"
        }
      ]
    },
    {
      "cell_type": "code",
      "source": [
        "# Merging book_data dataset and ratings_explicit\n",
        "new_book_df= pd.merge(df_book, ratings_explicit, on='isbn')\n",
        "new_book_df.head()"
      ],
      "metadata": {
        "execution": {
          "iopub.status.busy": "2023-01-09T13:39:57.974479Z",
          "iopub.execute_input": "2023-01-09T13:39:57.974957Z",
          "iopub.status.idle": "2023-01-09T13:39:58.313682Z",
          "shell.execute_reply.started": "2023-01-09T13:39:57.974923Z",
          "shell.execute_reply": "2023-01-09T13:39:58.312582Z"
        },
        "trusted": true,
        "id": "H93DxXdIxt6v",
        "outputId": "d29356a6-a19a-4746-8a4b-2ed03ee7bd8b"
      },
      "execution_count": null,
      "outputs": [
        {
          "execution_count": 337,
          "output_type": "execute_result",
          "data": {
            "text/plain": "         isbn    book_title           book_author year_of_publication  \\\n0  0002005018  Clara Callan  Richard Bruce Wright                2001   \n1  0002005018  Clara Callan  Richard Bruce Wright                2001   \n2  0002005018  Clara Callan  Richard Bruce Wright                2001   \n3  0002005018  Clara Callan  Richard Bruce Wright                2001   \n4  0002005018  Clara Callan  Richard Bruce Wright                2001   \n\n               publisher  user_id  book_rating  \n0  HarperFlamingo Canada        8            5  \n1  HarperFlamingo Canada    11676            8  \n2  HarperFlamingo Canada    67544            8  \n3  HarperFlamingo Canada   116866            9  \n4  HarperFlamingo Canada   123629            9  ",
            "text/html": "<div>\n<style scoped>\n    .dataframe tbody tr th:only-of-type {\n        vertical-align: middle;\n    }\n\n    .dataframe tbody tr th {\n        vertical-align: top;\n    }\n\n    .dataframe thead th {\n        text-align: right;\n    }\n</style>\n<table border=\"1\" class=\"dataframe\">\n  <thead>\n    <tr style=\"text-align: right;\">\n      <th></th>\n      <th>isbn</th>\n      <th>book_title</th>\n      <th>book_author</th>\n      <th>year_of_publication</th>\n      <th>publisher</th>\n      <th>user_id</th>\n      <th>book_rating</th>\n    </tr>\n  </thead>\n  <tbody>\n    <tr>\n      <th>0</th>\n      <td>0002005018</td>\n      <td>Clara Callan</td>\n      <td>Richard Bruce Wright</td>\n      <td>2001</td>\n      <td>HarperFlamingo Canada</td>\n      <td>8</td>\n      <td>5</td>\n    </tr>\n    <tr>\n      <th>1</th>\n      <td>0002005018</td>\n      <td>Clara Callan</td>\n      <td>Richard Bruce Wright</td>\n      <td>2001</td>\n      <td>HarperFlamingo Canada</td>\n      <td>11676</td>\n      <td>8</td>\n    </tr>\n    <tr>\n      <th>2</th>\n      <td>0002005018</td>\n      <td>Clara Callan</td>\n      <td>Richard Bruce Wright</td>\n      <td>2001</td>\n      <td>HarperFlamingo Canada</td>\n      <td>67544</td>\n      <td>8</td>\n    </tr>\n    <tr>\n      <th>3</th>\n      <td>0002005018</td>\n      <td>Clara Callan</td>\n      <td>Richard Bruce Wright</td>\n      <td>2001</td>\n      <td>HarperFlamingo Canada</td>\n      <td>116866</td>\n      <td>9</td>\n    </tr>\n    <tr>\n      <th>4</th>\n      <td>0002005018</td>\n      <td>Clara Callan</td>\n      <td>Richard Bruce Wright</td>\n      <td>2001</td>\n      <td>HarperFlamingo Canada</td>\n      <td>123629</td>\n      <td>9</td>\n    </tr>\n  </tbody>\n</table>\n</div>"
          },
          "metadata": {}
        }
      ]
    },
    {
      "cell_type": "code",
      "source": [
        "#Shape of new book dataset\n",
        "print(new_book_df.shape)"
      ],
      "metadata": {
        "execution": {
          "iopub.status.busy": "2023-01-09T13:39:58.315332Z",
          "iopub.execute_input": "2023-01-09T13:39:58.315817Z",
          "iopub.status.idle": "2023-01-09T13:39:58.322922Z",
          "shell.execute_reply.started": "2023-01-09T13:39:58.315771Z",
          "shell.execute_reply": "2023-01-09T13:39:58.321727Z"
        },
        "trusted": true,
        "id": "2Or6Wa0Axt6v",
        "outputId": "b2e77fc3-ab39-40a9-818f-80f6f9beea1e"
      },
      "execution_count": null,
      "outputs": [
        {
          "name": "stdout",
          "text": "(383842, 7)\n",
          "output_type": "stream"
        }
      ]
    },
    {
      "cell_type": "code",
      "source": [
        "#count of new_book dataframe title\n",
        "new_book_df['book_title'].count()"
      ],
      "metadata": {
        "execution": {
          "iopub.status.busy": "2023-01-09T13:39:58.324526Z",
          "iopub.execute_input": "2023-01-09T13:39:58.324922Z",
          "iopub.status.idle": "2023-01-09T13:39:58.359660Z",
          "shell.execute_reply.started": "2023-01-09T13:39:58.324886Z",
          "shell.execute_reply": "2023-01-09T13:39:58.358273Z"
        },
        "trusted": true,
        "id": "7Woe9Z7Dxt6w",
        "outputId": "679d9f26-116a-43e0-c676-5bba0d073591"
      },
      "execution_count": null,
      "outputs": [
        {
          "execution_count": 339,
          "output_type": "execute_result",
          "data": {
            "text/plain": "383842"
          },
          "metadata": {}
        }
      ]
    },
    {
      "cell_type": "code",
      "source": [
        "#get unique values of book title from new_book\n",
        "new_book_df['book_title'].nunique()"
      ],
      "metadata": {
        "execution": {
          "iopub.status.busy": "2023-01-09T13:39:58.361318Z",
          "iopub.execute_input": "2023-01-09T13:39:58.361688Z",
          "iopub.status.idle": "2023-01-09T13:39:58.454394Z",
          "shell.execute_reply.started": "2023-01-09T13:39:58.361656Z",
          "shell.execute_reply": "2023-01-09T13:39:58.453458Z"
        },
        "trusted": true,
        "id": "D6VUPO9rxt6w",
        "outputId": "3e94c935-de0f-416e-97ea-a3b6f8642542"
      },
      "execution_count": null,
      "outputs": [
        {
          "execution_count": 340,
          "output_type": "execute_result",
          "data": {
            "text/plain": "135567"
          },
          "metadata": {}
        }
      ]
    },
    {
      "cell_type": "code",
      "source": [
        "# top ten books as per book ratings and recommendation\n",
        "top_ten_books= pd.DataFrame(new_book_df.groupby('book_title')['book_rating'].count()\n",
        "                         .sort_values(ascending=False).head(10))\n",
        "print('The top ten books as per ratings : ')\n",
        "top_ten_books"
      ],
      "metadata": {
        "execution": {
          "iopub.status.busy": "2023-01-09T13:39:58.455562Z",
          "iopub.execute_input": "2023-01-09T13:39:58.456695Z",
          "iopub.status.idle": "2023-01-09T13:39:58.802250Z",
          "shell.execute_reply.started": "2023-01-09T13:39:58.456654Z",
          "shell.execute_reply": "2023-01-09T13:39:58.801148Z"
        },
        "trusted": true,
        "id": "NGt7dJWsxt6x",
        "outputId": "f4af77c3-0f62-4606-b1ef-6bc4224e83c4"
      },
      "execution_count": null,
      "outputs": [
        {
          "name": "stdout",
          "text": "The top ten books as per ratings : \n",
          "output_type": "stream"
        },
        {
          "execution_count": 341,
          "output_type": "execute_result",
          "data": {
            "text/plain": "                                                  book_rating\nbook_title                                                   \nThe Lovely Bones: A Novel                                 707\nWild Animus                                               581\nThe Da Vinci Code                                         494\nThe Secret Life of Bees                                   406\nThe Nanny Diaries: A Novel                                393\nThe Red Tent (Bestselling Backlist)                       383\nBridget Jones's Diary                                     377\nA Painted House                                           366\nLife of Pi                                                336\nHarry Potter and the Chamber of Secrets (Book 2)          326",
            "text/html": "<div>\n<style scoped>\n    .dataframe tbody tr th:only-of-type {\n        vertical-align: middle;\n    }\n\n    .dataframe tbody tr th {\n        vertical-align: top;\n    }\n\n    .dataframe thead th {\n        text-align: right;\n    }\n</style>\n<table border=\"1\" class=\"dataframe\">\n  <thead>\n    <tr style=\"text-align: right;\">\n      <th></th>\n      <th>book_rating</th>\n    </tr>\n    <tr>\n      <th>book_title</th>\n      <th></th>\n    </tr>\n  </thead>\n  <tbody>\n    <tr>\n      <th>The Lovely Bones: A Novel</th>\n      <td>707</td>\n    </tr>\n    <tr>\n      <th>Wild Animus</th>\n      <td>581</td>\n    </tr>\n    <tr>\n      <th>The Da Vinci Code</th>\n      <td>494</td>\n    </tr>\n    <tr>\n      <th>The Secret Life of Bees</th>\n      <td>406</td>\n    </tr>\n    <tr>\n      <th>The Nanny Diaries: A Novel</th>\n      <td>393</td>\n    </tr>\n    <tr>\n      <th>The Red Tent (Bestselling Backlist)</th>\n      <td>383</td>\n    </tr>\n    <tr>\n      <th>Bridget Jones's Diary</th>\n      <td>377</td>\n    </tr>\n    <tr>\n      <th>A Painted House</th>\n      <td>366</td>\n    </tr>\n    <tr>\n      <th>Life of Pi</th>\n      <td>336</td>\n    </tr>\n    <tr>\n      <th>Harry Potter and the Chamber of Secrets (Book 2)</th>\n      <td>326</td>\n    </tr>\n  </tbody>\n</table>\n</div>"
          },
          "metadata": {}
        }
      ]
    },
    {
      "cell_type": "code",
      "source": [
        "\n",
        "#Memory-Based Collaborative Filtering"
      ],
      "metadata": {
        "execution": {
          "iopub.status.busy": "2023-01-09T13:39:58.803462Z",
          "iopub.execute_input": "2023-01-09T13:39:58.803869Z",
          "iopub.status.idle": "2023-01-09T13:39:58.808316Z",
          "shell.execute_reply.started": "2023-01-09T13:39:58.803808Z",
          "shell.execute_reply": "2023-01-09T13:39:58.807525Z"
        },
        "trusted": true,
        "id": "X73yC12Axt6y"
      },
      "execution_count": null,
      "outputs": []
    },
    {
      "cell_type": "code",
      "source": [
        "#Train - Test Split"
      ],
      "metadata": {
        "execution": {
          "iopub.status.busy": "2023-01-09T13:39:58.809296Z",
          "iopub.execute_input": "2023-01-09T13:39:58.810300Z",
          "iopub.status.idle": "2023-01-09T13:39:58.820869Z",
          "shell.execute_reply.started": "2023-01-09T13:39:58.810252Z",
          "shell.execute_reply": "2023-01-09T13:39:58.819406Z"
        },
        "trusted": true,
        "id": "PPGUOQkuxt6y"
      },
      "execution_count": null,
      "outputs": []
    },
    {
      "cell_type": "code",
      "source": [
        "#import library\n",
        "#Train,Test and split\n",
        "from sklearn import model_selection\n",
        "train_data, test_data = model_selection.train_test_split(new_book_df, test_size=0.20)"
      ],
      "metadata": {
        "execution": {
          "iopub.status.busy": "2023-01-09T13:39:58.822694Z",
          "iopub.execute_input": "2023-01-09T13:39:58.824057Z",
          "iopub.status.idle": "2023-01-09T13:39:59.022817Z",
          "shell.execute_reply.started": "2023-01-09T13:39:58.824009Z",
          "shell.execute_reply": "2023-01-09T13:39:59.021375Z"
        },
        "trusted": true,
        "id": "yL9yoUVrxt6z"
      },
      "execution_count": null,
      "outputs": []
    },
    {
      "cell_type": "code",
      "source": [
        "#Chek the length of the dataset\n",
        "print(f'Training set lengths: {len(train_data)}')\n",
        "print(f'Testing set lengths: {len(test_data)}')\n",
        "print(f'Test set is {(len(test_data)/(len(train_data)+len(test_data))*100):.0f}% of the full dataset.')"
      ],
      "metadata": {
        "execution": {
          "iopub.status.busy": "2023-01-09T13:39:59.024512Z",
          "iopub.execute_input": "2023-01-09T13:39:59.024940Z",
          "iopub.status.idle": "2023-01-09T13:39:59.031473Z",
          "shell.execute_reply.started": "2023-01-09T13:39:59.024905Z",
          "shell.execute_reply": "2023-01-09T13:39:59.030277Z"
        },
        "trusted": true,
        "id": "2UMB7Cuwxt6z",
        "outputId": "e4b5fcdc-350d-425d-c7dd-7033a6085a68"
      },
      "execution_count": null,
      "outputs": [
        {
          "name": "stdout",
          "text": "Training set lengths: 307073\nTesting set lengths: 76769\nTest set is 20% of the full dataset.\n",
          "output_type": "stream"
        }
      ]
    },
    {
      "cell_type": "code",
      "source": [
        "# Get int mapping for user_id in train dataset\n",
        "u_unique_train = train_data.user_id.unique()  \n",
        "train_data_user2idx = {o:i for i, o in enumerate(u_unique_train)}\n",
        "\n",
        "# Get int mapping for isbn in train dataset\n",
        "i_unique_train = train_data.isbn.unique()  \n",
        "train_data_book2idx = {o:i for i, o in enumerate(i_unique_train)}# Get int mapping for user_id in train dataset\n",
        "u_unique_train = train_data.user_id.unique()  \n",
        "train_data_user2idx = {o:i for i, o in enumerate(u_unique_train)}\n"
      ],
      "metadata": {
        "execution": {
          "iopub.status.busy": "2023-01-09T13:39:59.032967Z",
          "iopub.execute_input": "2023-01-09T13:39:59.033298Z",
          "iopub.status.idle": "2023-01-09T13:39:59.252339Z",
          "shell.execute_reply.started": "2023-01-09T13:39:59.033268Z",
          "shell.execute_reply": "2023-01-09T13:39:59.251035Z"
        },
        "trusted": true,
        "id": "9ypS3eEKxt60"
      },
      "execution_count": null,
      "outputs": []
    },
    {
      "cell_type": "code",
      "source": [
        "# Get int mapping for user_id in test dataset\n",
        "u_unique_test = test_data.user_id.unique()  \n",
        "test_data_user2idx = {o:i for i, o in enumerate(u_unique_test)}\n",
        "\n",
        "# Get int mapping for isbn in test dataset\n",
        "i_unique_test = test_data.isbn.unique() \n",
        "test_data_book2idx = {o:i for i, o in enumerate(i_unique_test)}"
      ],
      "metadata": {
        "execution": {
          "iopub.status.busy": "2023-01-09T13:39:59.254157Z",
          "iopub.execute_input": "2023-01-09T13:39:59.254623Z",
          "iopub.status.idle": "2023-01-09T13:39:59.319412Z",
          "shell.execute_reply.started": "2023-01-09T13:39:59.254576Z",
          "shell.execute_reply": "2023-01-09T13:39:59.318342Z"
        },
        "trusted": true,
        "id": "96-M-HQ-xt60"
      },
      "execution_count": null,
      "outputs": []
    },
    {
      "cell_type": "code",
      "source": [
        "\n",
        "# training set\n",
        "train_data['u_unique'] = train_data['user_id'].map(train_data_user2idx)\n",
        "train_data['i_unique'] = train_data['isbn'].map(train_data_book2idx)\n",
        "\n",
        "\n",
        "# Convert back to three feature of dataframe \n",
        "train_data = train_data[['u_unique','i_unique','book_rating']]\n",
        "test_data = test_data[['u_unique','i_unique','book_rating']]"
      ],
      "metadata": {
        "execution": {
          "iopub.status.busy": "2023-01-09T13:39:59.321073Z",
          "iopub.execute_input": "2023-01-09T13:39:59.321707Z",
          "iopub.status.idle": "2023-01-09T13:39:59.583916Z",
          "shell.execute_reply.started": "2023-01-09T13:39:59.321668Z",
          "shell.execute_reply": "2023-01-09T13:39:59.580747Z"
        },
        "trusted": true,
        "id": "_mRVpahWxt61",
        "outputId": "44cf1da2-3ce3-468d-f3d2-a3f3925b238c"
      },
      "execution_count": null,
      "outputs": [
        {
          "traceback": [
            "\u001b[0;31m---------------------------------------------------------------------------\u001b[0m",
            "\u001b[0;31mKeyError\u001b[0m                                  Traceback (most recent call last)",
            "\u001b[0;32m/tmp/ipykernel_27/4183830387.py\u001b[0m in \u001b[0;36m<module>\u001b[0;34m\u001b[0m\n\u001b[1;32m      6\u001b[0m \u001b[0;31m# Convert back to three feature of dataframe\u001b[0m\u001b[0;34m\u001b[0m\u001b[0;34m\u001b[0m\u001b[0;34m\u001b[0m\u001b[0m\n\u001b[1;32m      7\u001b[0m \u001b[0mtrain_data\u001b[0m \u001b[0;34m=\u001b[0m \u001b[0mtrain_data\u001b[0m\u001b[0;34m[\u001b[0m\u001b[0;34m[\u001b[0m\u001b[0;34m'u_unique'\u001b[0m\u001b[0;34m,\u001b[0m\u001b[0;34m'i_unique'\u001b[0m\u001b[0;34m,\u001b[0m\u001b[0;34m'book_rating'\u001b[0m\u001b[0;34m]\u001b[0m\u001b[0;34m]\u001b[0m\u001b[0;34m\u001b[0m\u001b[0;34m\u001b[0m\u001b[0m\n\u001b[0;32m----> 8\u001b[0;31m \u001b[0mtest_data\u001b[0m \u001b[0;34m=\u001b[0m \u001b[0mtest_data\u001b[0m\u001b[0;34m[\u001b[0m\u001b[0;34m[\u001b[0m\u001b[0;34m'u_unique'\u001b[0m\u001b[0;34m,\u001b[0m\u001b[0;34m'i_unique'\u001b[0m\u001b[0;34m,\u001b[0m\u001b[0;34m'book_rating'\u001b[0m\u001b[0;34m]\u001b[0m\u001b[0;34m]\u001b[0m\u001b[0;34m\u001b[0m\u001b[0;34m\u001b[0m\u001b[0m\n\u001b[0m",
            "\u001b[0;32m/opt/conda/lib/python3.7/site-packages/pandas/core/frame.py\u001b[0m in \u001b[0;36m__getitem__\u001b[0;34m(self, key)\u001b[0m\n\u001b[1;32m   3462\u001b[0m             \u001b[0;32mif\u001b[0m \u001b[0mis_iterator\u001b[0m\u001b[0;34m(\u001b[0m\u001b[0mkey\u001b[0m\u001b[0;34m)\u001b[0m\u001b[0;34m:\u001b[0m\u001b[0;34m\u001b[0m\u001b[0;34m\u001b[0m\u001b[0m\n\u001b[1;32m   3463\u001b[0m                 \u001b[0mkey\u001b[0m \u001b[0;34m=\u001b[0m \u001b[0mlist\u001b[0m\u001b[0;34m(\u001b[0m\u001b[0mkey\u001b[0m\u001b[0;34m)\u001b[0m\u001b[0;34m\u001b[0m\u001b[0;34m\u001b[0m\u001b[0m\n\u001b[0;32m-> 3464\u001b[0;31m             \u001b[0mindexer\u001b[0m \u001b[0;34m=\u001b[0m \u001b[0mself\u001b[0m\u001b[0;34m.\u001b[0m\u001b[0mloc\u001b[0m\u001b[0;34m.\u001b[0m\u001b[0m_get_listlike_indexer\u001b[0m\u001b[0;34m(\u001b[0m\u001b[0mkey\u001b[0m\u001b[0;34m,\u001b[0m \u001b[0maxis\u001b[0m\u001b[0;34m=\u001b[0m\u001b[0;36m1\u001b[0m\u001b[0;34m)\u001b[0m\u001b[0;34m[\u001b[0m\u001b[0;36m1\u001b[0m\u001b[0;34m]\u001b[0m\u001b[0;34m\u001b[0m\u001b[0;34m\u001b[0m\u001b[0m\n\u001b[0m\u001b[1;32m   3465\u001b[0m \u001b[0;34m\u001b[0m\u001b[0m\n\u001b[1;32m   3466\u001b[0m         \u001b[0;31m# take() does not accept boolean indexers\u001b[0m\u001b[0;34m\u001b[0m\u001b[0;34m\u001b[0m\u001b[0;34m\u001b[0m\u001b[0m\n",
            "\u001b[0;32m/opt/conda/lib/python3.7/site-packages/pandas/core/indexing.py\u001b[0m in \u001b[0;36m_get_listlike_indexer\u001b[0;34m(self, key, axis)\u001b[0m\n\u001b[1;32m   1312\u001b[0m             \u001b[0mkeyarr\u001b[0m\u001b[0;34m,\u001b[0m \u001b[0mindexer\u001b[0m\u001b[0;34m,\u001b[0m \u001b[0mnew_indexer\u001b[0m \u001b[0;34m=\u001b[0m \u001b[0max\u001b[0m\u001b[0;34m.\u001b[0m\u001b[0m_reindex_non_unique\u001b[0m\u001b[0;34m(\u001b[0m\u001b[0mkeyarr\u001b[0m\u001b[0;34m)\u001b[0m\u001b[0;34m\u001b[0m\u001b[0;34m\u001b[0m\u001b[0m\n\u001b[1;32m   1313\u001b[0m \u001b[0;34m\u001b[0m\u001b[0m\n\u001b[0;32m-> 1314\u001b[0;31m         \u001b[0mself\u001b[0m\u001b[0;34m.\u001b[0m\u001b[0m_validate_read_indexer\u001b[0m\u001b[0;34m(\u001b[0m\u001b[0mkeyarr\u001b[0m\u001b[0;34m,\u001b[0m \u001b[0mindexer\u001b[0m\u001b[0;34m,\u001b[0m \u001b[0maxis\u001b[0m\u001b[0;34m)\u001b[0m\u001b[0;34m\u001b[0m\u001b[0;34m\u001b[0m\u001b[0m\n\u001b[0m\u001b[1;32m   1315\u001b[0m \u001b[0;34m\u001b[0m\u001b[0m\n\u001b[1;32m   1316\u001b[0m         if needs_i8_conversion(ax.dtype) or isinstance(\n",
            "\u001b[0;32m/opt/conda/lib/python3.7/site-packages/pandas/core/indexing.py\u001b[0m in \u001b[0;36m_validate_read_indexer\u001b[0;34m(self, key, indexer, axis)\u001b[0m\n\u001b[1;32m   1375\u001b[0m \u001b[0;34m\u001b[0m\u001b[0m\n\u001b[1;32m   1376\u001b[0m             \u001b[0mnot_found\u001b[0m \u001b[0;34m=\u001b[0m \u001b[0mlist\u001b[0m\u001b[0;34m(\u001b[0m\u001b[0mensure_index\u001b[0m\u001b[0;34m(\u001b[0m\u001b[0mkey\u001b[0m\u001b[0;34m)\u001b[0m\u001b[0;34m[\u001b[0m\u001b[0mmissing_mask\u001b[0m\u001b[0;34m.\u001b[0m\u001b[0mnonzero\u001b[0m\u001b[0;34m(\u001b[0m\u001b[0;34m)\u001b[0m\u001b[0;34m[\u001b[0m\u001b[0;36m0\u001b[0m\u001b[0;34m]\u001b[0m\u001b[0;34m]\u001b[0m\u001b[0;34m.\u001b[0m\u001b[0munique\u001b[0m\u001b[0;34m(\u001b[0m\u001b[0;34m)\u001b[0m\u001b[0;34m)\u001b[0m\u001b[0;34m\u001b[0m\u001b[0;34m\u001b[0m\u001b[0m\n\u001b[0;32m-> 1377\u001b[0;31m             \u001b[0;32mraise\u001b[0m \u001b[0mKeyError\u001b[0m\u001b[0;34m(\u001b[0m\u001b[0;34mf\"{not_found} not in index\"\u001b[0m\u001b[0;34m)\u001b[0m\u001b[0;34m\u001b[0m\u001b[0;34m\u001b[0m\u001b[0m\n\u001b[0m\u001b[1;32m   1378\u001b[0m \u001b[0;34m\u001b[0m\u001b[0m\n\u001b[1;32m   1379\u001b[0m \u001b[0;34m\u001b[0m\u001b[0m\n",
            "\u001b[0;31mKeyError\u001b[0m: \"['u_unique', 'i_unique'] not in index\""
          ],
          "ename": "KeyError",
          "evalue": "\"['u_unique', 'i_unique'] not in index\"",
          "output_type": "error"
        }
      ]
    },
    {
      "cell_type": "code",
      "source": [
        "#Take sample of trained data\n",
        "train_data.sample(5)"
      ],
      "metadata": {
        "execution": {
          "iopub.status.busy": "2023-01-09T13:39:59.585190Z",
          "iopub.status.idle": "2023-01-09T13:39:59.585596Z",
          "shell.execute_reply.started": "2023-01-09T13:39:59.585409Z",
          "shell.execute_reply": "2023-01-09T13:39:59.585428Z"
        },
        "trusted": true,
        "id": "GwsN4hA1xt62"
      },
      "execution_count": null,
      "outputs": []
    },
    {
      "cell_type": "code",
      "source": [
        "#Take sample from test data\n",
        "test_data.sample(5)"
      ],
      "metadata": {
        "execution": {
          "iopub.status.busy": "2023-01-09T13:39:59.586764Z",
          "iopub.status.idle": "2023-01-09T13:39:59.587349Z",
          "shell.execute_reply.started": "2023-01-09T13:39:59.587071Z",
          "shell.execute_reply": "2023-01-09T13:39:59.587099Z"
        },
        "trusted": true,
        "id": "q5eEOUXxxt63"
      },
      "execution_count": null,
      "outputs": []
    },
    {
      "cell_type": "code",
      "source": [
        "# first I'll create an empty matrix of users books and then I'll add the appropriate values to the matrix by extracting them from the dataset\n",
        "n_users = train_data['u_unique'].nunique()\n",
        "n_books = train_data['i_unique'].nunique()\n",
        "\n",
        "train_matrix = np.zeros((n_users, n_books))\n",
        "\n",
        "for entry in train_data.itertuples():                  \n",
        "    train_matrix[entry[1]-1, entry[2]-1] = entry[3]  "
      ],
      "metadata": {
        "execution": {
          "iopub.status.busy": "2023-01-09T13:39:59.588962Z",
          "iopub.status.idle": "2023-01-09T13:39:59.589406Z",
          "shell.execute_reply.started": "2023-01-09T13:39:59.589213Z",
          "shell.execute_reply": "2023-01-09T13:39:59.589234Z"
        },
        "trusted": true,
        "id": "UnzpzdnLxt63"
      },
      "execution_count": null,
      "outputs": []
    },
    {
      "cell_type": "code",
      "source": [
        "#Shape of train matrix\n",
        "train_matrix.shape"
      ],
      "metadata": {
        "execution": {
          "iopub.status.busy": "2023-01-09T13:39:59.591106Z",
          "iopub.status.idle": "2023-01-09T13:39:59.591606Z",
          "shell.execute_reply.started": "2023-01-09T13:39:59.591371Z",
          "shell.execute_reply": "2023-01-09T13:39:59.591398Z"
        },
        "trusted": true,
        "id": "aIfXrae_xt64"
      },
      "execution_count": null,
      "outputs": []
    },
    {
      "cell_type": "code",
      "source": [
        "#User-Item for Test Data"
      ],
      "metadata": {
        "execution": {
          "iopub.status.busy": "2023-01-09T13:39:59.592779Z",
          "iopub.status.idle": "2023-01-09T13:39:59.593379Z",
          "shell.execute_reply.started": "2023-01-09T13:39:59.593088Z",
          "shell.execute_reply": "2023-01-09T13:39:59.593119Z"
        },
        "trusted": true,
        "id": "OW3yZwWbxt64"
      },
      "execution_count": null,
      "outputs": []
    },
    {
      "cell_type": "code",
      "source": [
        "n_users = test_data['u_unique'].nunique()\n",
        "n_books = test_data['i_unique'].nunique()\n",
        "\n",
        "test_matrix = np.zeros((n_users, n_books))\n",
        "\n",
        "for entry in test_data.itertuples():\n",
        "    test_matrix[entry[1]-1, entry[2]-1] = entry[3] "
      ],
      "metadata": {
        "execution": {
          "iopub.status.busy": "2023-01-09T13:39:59.594591Z",
          "iopub.status.idle": "2023-01-09T13:39:59.595157Z",
          "shell.execute_reply.started": "2023-01-09T13:39:59.594866Z",
          "shell.execute_reply": "2023-01-09T13:39:59.594893Z"
        },
        "trusted": true,
        "id": "7JCmrJBMxt65"
      },
      "execution_count": null,
      "outputs": []
    },
    {
      "cell_type": "code",
      "source": [
        "#Shape of test matrix\n",
        "test_matrix.shape\n"
      ],
      "metadata": {
        "execution": {
          "iopub.status.busy": "2023-01-09T13:39:59.597777Z",
          "iopub.status.idle": "2023-01-09T13:39:59.598378Z",
          "shell.execute_reply.started": "2023-01-09T13:39:59.598093Z",
          "shell.execute_reply": "2023-01-09T13:39:59.598122Z"
        },
        "trusted": true,
        "id": "8LZp1dOSxt69"
      },
      "execution_count": null,
      "outputs": []
    },
    {
      "cell_type": "code",
      "source": [
        "#Cosine Similarity Based Recommendation System"
      ],
      "metadata": {
        "execution": {
          "iopub.status.busy": "2023-01-09T13:39:59.600098Z",
          "iopub.status.idle": "2023-01-09T13:39:59.600662Z",
          "shell.execute_reply.started": "2023-01-09T13:39:59.600364Z",
          "shell.execute_reply": "2023-01-09T13:39:59.600390Z"
        },
        "trusted": true,
        "id": "_xOFaOGOxt6-"
      },
      "execution_count": null,
      "outputs": []
    },
    {
      "cell_type": "code",
      "source": [
        "# To make item-item similarity we need to take the transpose of the matrix\n",
        "train_matrix_small = train_matrix[:5000, :5000]\n",
        "test_matrix_small = test_matrix[:5000, :5000]\n",
        "\n",
        "from sklearn.metrics.pairwise import pairwise_distances\n",
        "user_similarity = pairwise_distances(train_matrix_small, metric='cosine')\n",
        "item_similarity = pairwise_distances(train_matrix_small.T, metric='cosine')"
      ],
      "metadata": {
        "execution": {
          "iopub.status.busy": "2023-01-09T13:39:59.602073Z",
          "iopub.status.idle": "2023-01-09T13:39:59.602671Z",
          "shell.execute_reply.started": "2023-01-09T13:39:59.602361Z",
          "shell.execute_reply": "2023-01-09T13:39:59.602388Z"
        },
        "trusted": true,
        "id": "N6o9b-K2xt6-"
      },
      "execution_count": null,
      "outputs": []
    },
    {
      "cell_type": "code",
      "source": [
        "# function to predict the similarity :\n",
        "def predict_books(ratings, similarity, type='user'): # default type is 'user'\n",
        "    if type == 'user':\n",
        "        mean_user_rating = ratings.mean(axis=1)\n",
        "        \n",
        "        # Use np.newaxis so that mean_user_rating has the same format as ratings\n",
        "        ratings_diff = (ratings - mean_user_rating[:, np.newaxis])\n",
        "        pred = mean_user_rating[:, np.newaxis] + similarity.dot(ratings_diff) / np.array([np.abs(similarity).sum(axis=1)]).T\n",
        "    elif type == 'item':\n",
        "        pred = ratings.dot(similarity) / np.array([np.abs(similarity).sum(axis=1)])\n",
        "    return pred"
      ],
      "metadata": {
        "execution": {
          "iopub.status.busy": "2023-01-09T13:39:59.604596Z",
          "iopub.status.idle": "2023-01-09T13:39:59.605197Z",
          "shell.execute_reply.started": "2023-01-09T13:39:59.604907Z",
          "shell.execute_reply": "2023-01-09T13:39:59.604934Z"
        },
        "trusted": true,
        "id": "g5e_2oUZxt6_"
      },
      "execution_count": null,
      "outputs": []
    },
    {
      "cell_type": "code",
      "source": [
        "\n",
        "item_prediction = predict_books(train_matrix_small, item_similarity, type='item')\n",
        "user_prediction = predict_books(train_matrix_small, user_similarity, type='user')"
      ],
      "metadata": {
        "execution": {
          "iopub.status.busy": "2023-01-09T13:39:59.606965Z",
          "iopub.status.idle": "2023-01-09T13:39:59.607512Z",
          "shell.execute_reply.started": "2023-01-09T13:39:59.607234Z",
          "shell.execute_reply": "2023-01-09T13:39:59.607258Z"
        },
        "trusted": true,
        "id": "bP1i1dS5xt6_"
      },
      "execution_count": null,
      "outputs": []
    },
    {
      "cell_type": "code",
      "source": [
        "#Evaluation Metric"
      ],
      "metadata": {
        "execution": {
          "iopub.status.busy": "2023-01-09T13:39:59.609405Z",
          "iopub.status.idle": "2023-01-09T13:39:59.610160Z",
          "shell.execute_reply.started": "2023-01-09T13:39:59.609937Z",
          "shell.execute_reply": "2023-01-09T13:39:59.609961Z"
        },
        "trusted": true,
        "id": "qtRReIyTxt7A"
      },
      "execution_count": null,
      "outputs": []
    },
    {
      "cell_type": "code",
      "source": [
        "# Evaluation metric by mean squared error\n",
        "from sklearn.metrics import mean_squared_error\n",
        "from math import sqrt\n",
        "\n",
        "def rmse(prediction, test_matrix):\n",
        "    prediction = prediction[test_matrix.nonzero()].flatten()\n",
        "    test_matrix = test_matrix[test_matrix.nonzero()].flatten()\n",
        "    return sqrt(mean_squared_error(prediction, test_matrix))\n",
        "\n",
        "print(f'Item-based CF RMSE: {rmse(item_prediction, test_matrix_small)}')\n",
        "print(f'User-based CF RMSE: {rmse(user_prediction, test_matrix_small)}')"
      ],
      "metadata": {
        "execution": {
          "iopub.status.busy": "2023-01-09T13:39:59.611522Z",
          "iopub.status.idle": "2023-01-09T13:39:59.611954Z",
          "shell.execute_reply.started": "2023-01-09T13:39:59.611742Z",
          "shell.execute_reply": "2023-01-09T13:39:59.611761Z"
        },
        "trusted": true,
        "id": "6iQ3vA0Cxt7A"
      },
      "execution_count": null,
      "outputs": []
    },
    {
      "cell_type": "code",
      "source": [
        "from surprise import Reader, Dataset"
      ],
      "metadata": {
        "execution": {
          "iopub.status.busy": "2023-01-09T13:39:59.613103Z",
          "iopub.status.idle": "2023-01-09T13:39:59.613502Z",
          "shell.execute_reply.started": "2023-01-09T13:39:59.613307Z",
          "shell.execute_reply": "2023-01-09T13:39:59.613326Z"
        },
        "trusted": true,
        "id": "sDWJ0QBhxt7B"
      },
      "execution_count": null,
      "outputs": []
    },
    {
      "cell_type": "code",
      "source": [
        "reader = Reader(rating_scale=(1, 10))\n",
        "data = Dataset.load_from_df(ratings_explicit,reader)"
      ],
      "metadata": {
        "execution": {
          "iopub.status.busy": "2023-01-09T13:39:59.614723Z",
          "iopub.status.idle": "2023-01-09T13:39:59.615170Z",
          "shell.execute_reply.started": "2023-01-09T13:39:59.614973Z",
          "shell.execute_reply": "2023-01-09T13:39:59.614993Z"
        },
        "trusted": true,
        "id": "J4imrVq1xt7B"
      },
      "execution_count": null,
      "outputs": []
    },
    {
      "cell_type": "code",
      "source": [
        "from surprise import SVD, model_selection, accuracy\n",
        "model = SVD()\n",
        "\n",
        "# Train on books dataset\n",
        "%time model_selection.cross_validate(model, data, measures=['RMSE'], cv=5, verbose=True)"
      ],
      "metadata": {
        "execution": {
          "iopub.status.busy": "2023-01-09T13:39:59.618576Z",
          "iopub.status.idle": "2023-01-09T13:39:59.619060Z",
          "shell.execute_reply.started": "2023-01-09T13:39:59.618817Z",
          "shell.execute_reply": "2023-01-09T13:39:59.618852Z"
        },
        "trusted": true,
        "id": "s7E24PGCxt7C"
      },
      "execution_count": null,
      "outputs": []
    },
    {
      "cell_type": "code",
      "source": [
        "#Train - Test Split"
      ],
      "metadata": {
        "execution": {
          "iopub.status.busy": "2023-01-09T13:39:59.621125Z",
          "iopub.status.idle": "2023-01-09T13:39:59.621746Z",
          "shell.execute_reply.started": "2023-01-09T13:39:59.621433Z",
          "shell.execute_reply": "2023-01-09T13:39:59.621462Z"
        },
        "trusted": true,
        "id": "PhBwUENqxt7C"
      },
      "execution_count": null,
      "outputs": []
    },
    {
      "cell_type": "code",
      "source": [
        "# train and test split\n",
        "trainset, testset = model_selection.train_test_split(data, test_size=0.2)\n",
        "\n",
        "# SVD model\n",
        "model = SVD()\n",
        "model.fit(trainset)"
      ],
      "metadata": {
        "execution": {
          "iopub.status.busy": "2023-01-09T13:39:59.623560Z",
          "iopub.status.idle": "2023-01-09T13:39:59.624179Z",
          "shell.execute_reply.started": "2023-01-09T13:39:59.623887Z",
          "shell.execute_reply": "2023-01-09T13:39:59.623915Z"
        },
        "trusted": true,
        "id": "r2DmUxzyxt7D"
      },
      "execution_count": null,
      "outputs": []
    },
    {
      "cell_type": "code",
      "source": [
        "#Evaluation metrics for SVD model"
      ],
      "metadata": {
        "execution": {
          "iopub.status.busy": "2023-01-09T13:39:59.625521Z",
          "iopub.status.idle": "2023-01-09T13:39:59.626134Z",
          "shell.execute_reply.started": "2023-01-09T13:39:59.625813Z",
          "shell.execute_reply": "2023-01-09T13:39:59.625858Z"
        },
        "trusted": true,
        "id": "gOfnz-oJxt7D"
      },
      "execution_count": null,
      "outputs": []
    },
    {
      "cell_type": "code",
      "source": [
        "# displaying RMSE score\n",
        "predictions = model.test(testset)\n",
        "print(f\"The accuracy is {accuracy.rmse(predictions)}\")"
      ],
      "metadata": {
        "execution": {
          "iopub.status.busy": "2023-01-09T13:39:59.627253Z",
          "iopub.status.idle": "2023-01-09T13:39:59.627635Z",
          "shell.execute_reply.started": "2023-01-09T13:39:59.627448Z",
          "shell.execute_reply": "2023-01-09T13:39:59.627466Z"
        },
        "trusted": true,
        "id": "WJWkb-XYxt7E"
      },
      "execution_count": null,
      "outputs": []
    },
    {
      "cell_type": "code",
      "source": [
        "#Testing Results"
      ],
      "metadata": {
        "execution": {
          "iopub.status.busy": "2023-01-09T13:39:59.629093Z",
          "iopub.status.idle": "2023-01-09T13:39:59.629480Z",
          "shell.execute_reply.started": "2023-01-09T13:39:59.629293Z",
          "shell.execute_reply": "2023-01-09T13:39:59.629310Z"
        },
        "trusted": true,
        "id": "bQ8RiNTyxt7E"
      },
      "execution_count": null,
      "outputs": []
    },
    {
      "cell_type": "code",
      "source": [
        "# to test result let's take an user-id and item-id to test our model.\n",
        "uid = 276744  \n",
        "iid = '038550120X' \n",
        "pred = model.predict(uid, iid, verbose=True)"
      ],
      "metadata": {
        "execution": {
          "iopub.status.busy": "2023-01-09T13:39:59.630474Z",
          "iopub.status.idle": "2023-01-09T13:39:59.630877Z",
          "shell.execute_reply.started": "2023-01-09T13:39:59.630668Z",
          "shell.execute_reply": "2023-01-09T13:39:59.630693Z"
        },
        "trusted": true,
        "id": "_DkwqUMmxt7F"
      },
      "execution_count": null,
      "outputs": []
    },
    {
      "cell_type": "code",
      "source": [
        "# display estimated rating and real rating\n",
        "print(f'The estimated rating for the book with ISBN code {pred.iid} from user #{pred.uid} is {pred.est:.2f}.\\n')\n",
        "actual_rtg= ratings_explicit[(ratings_explicit.user_id==pred.uid) & \n",
        "                             (ratings_explicit.isbn==pred.iid)].book_rating.values[0]\n",
        "print(f'The real rating given for this was {actual_rtg:.2f}.')"
      ],
      "metadata": {
        "execution": {
          "iopub.status.busy": "2023-01-09T13:39:59.632619Z",
          "iopub.status.idle": "2023-01-09T13:39:59.633185Z",
          "shell.execute_reply.started": "2023-01-09T13:39:59.632901Z",
          "shell.execute_reply": "2023-01-09T13:39:59.632928Z"
        },
        "trusted": true,
        "id": "BtqWE7H3xt7F"
      },
      "execution_count": null,
      "outputs": []
    },
    {
      "cell_type": "code",
      "source": [
        "# The following function was adapted from the surprise docs\n",
        "# and can be used to get the top book recommendations for each user.\n",
        "from collections import defaultdict\n",
        "\n",
        "def get_top_n(predictions, n=10):\n",
        "    \n",
        "    # First map the predictions to each user\n",
        "    top_n = defaultdict(list)\n",
        "    for uid, iid, true_r, est, _ in predictions:\n",
        "        top_n[uid].append((iid, est))\n",
        "\n",
        "    # Then sort the predictions for each user and retrieve the k highest ones\n",
        "    for uid, user_ratings in top_n.items():\n",
        "        user_ratings.sort(key=lambda x: x[1], reverse=True)\n",
        "        top_n[uid] = user_ratings[:n]\n",
        "        \n",
        "    return top_n"
      ],
      "metadata": {
        "execution": {
          "iopub.status.busy": "2023-01-09T13:39:59.634929Z",
          "iopub.status.idle": "2023-01-09T13:39:59.635471Z",
          "shell.execute_reply.started": "2023-01-09T13:39:59.635190Z",
          "shell.execute_reply": "2023-01-09T13:39:59.635215Z"
        },
        "trusted": true,
        "id": "RhVRnDUfxt7F"
      },
      "execution_count": null,
      "outputs": []
    },
    {
      "cell_type": "code",
      "source": [
        "# prediciton on teset and getting top predictions\n",
        "pred = model.test(testset)\n",
        "top_n = get_top_n(pred)"
      ],
      "metadata": {
        "execution": {
          "iopub.status.busy": "2023-01-09T13:39:59.637100Z",
          "iopub.status.idle": "2023-01-09T13:39:59.637667Z",
          "shell.execute_reply.started": "2023-01-09T13:39:59.637369Z",
          "shell.execute_reply": "2023-01-09T13:39:59.637397Z"
        },
        "trusted": true,
        "id": "6mBjlDQuxt7H"
      },
      "execution_count": null,
      "outputs": []
    },
    {
      "cell_type": "code",
      "source": [
        "pred_testset_df = pd.DataFrame(pred)\n",
        "pred_testset_df"
      ],
      "metadata": {
        "execution": {
          "iopub.status.busy": "2023-01-09T13:39:59.639469Z",
          "iopub.status.idle": "2023-01-09T13:39:59.639912Z",
          "shell.execute_reply.started": "2023-01-09T13:39:59.639709Z",
          "shell.execute_reply": "2023-01-09T13:39:59.639727Z"
        },
        "trusted": true,
        "id": "dlyWyFafxt7H"
      },
      "execution_count": null,
      "outputs": []
    },
    {
      "cell_type": "code",
      "source": [
        "#Retrieving full book titles from full 'books_users_ratings' dataframe"
      ],
      "metadata": {
        "execution": {
          "iopub.status.busy": "2023-01-09T13:39:59.641141Z",
          "iopub.status.idle": "2023-01-09T13:39:59.641578Z",
          "shell.execute_reply.started": "2023-01-09T13:39:59.641365Z",
          "shell.execute_reply": "2023-01-09T13:39:59.641384Z"
        },
        "trusted": true,
        "id": "7TpUWjLqxt7I"
      },
      "execution_count": null,
      "outputs": []
    },
    {
      "cell_type": "code",
      "source": [
        "def get_reading_list(userid):\n",
        "    \n",
        "    reading_list = defaultdict(list)\n",
        "    top_n = get_top_n(pred, n=10)\n",
        "    for n in top_n[userid]:\n",
        "        book, rating = n\n",
        "        title = new_book_df.loc[new_book_df.isbn==book].book_title.unique()[0]\n",
        "        reading_list[title] = rating\n",
        "    return reading_list"
      ],
      "metadata": {
        "execution": {
          "iopub.status.busy": "2023-01-09T13:39:59.642692Z",
          "iopub.status.idle": "2023-01-09T13:39:59.643103Z",
          "shell.execute_reply.started": "2023-01-09T13:39:59.642902Z",
          "shell.execute_reply": "2023-01-09T13:39:59.642920Z"
        },
        "trusted": true,
        "id": "z2RThbryxt7I"
      },
      "execution_count": null,
      "outputs": []
    },
    {
      "cell_type": "code",
      "source": [
        "#take a random look at user_id\n",
        "example_reading_list = get_reading_list(userid=116866)\n",
        "for book, rating in example_reading_list.items():\n",
        "    print(f'{book}: {rating}')"
      ],
      "metadata": {
        "execution": {
          "iopub.status.busy": "2023-01-09T13:39:59.644675Z",
          "iopub.status.idle": "2023-01-09T13:39:59.645077Z",
          "shell.execute_reply.started": "2023-01-09T13:39:59.644882Z",
          "shell.execute_reply": "2023-01-09T13:39:59.644900Z"
        },
        "trusted": true,
        "id": "eXQtFuZ3xt7J"
      },
      "execution_count": null,
      "outputs": []
    },
    {
      "cell_type": "markdown",
      "source": [
        "**Conlusion**"
      ],
      "metadata": {
        "id": "KompLEX71qh2"
      }
    },
    {
      "cell_type": "code",
      "source": [],
      "metadata": {
        "id": "6D_AOIOVxt7J"
      },
      "execution_count": null,
      "outputs": []
    }
  ]
}